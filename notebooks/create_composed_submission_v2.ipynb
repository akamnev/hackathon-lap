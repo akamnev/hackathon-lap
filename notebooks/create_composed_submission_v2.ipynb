{
 "cells": [
  {
   "cell_type": "markdown",
   "metadata": {},
   "source": [
    "# Построение предсказания на основе агрегирации ответов моделей - взвешенное предсказание"
   ]
  },
  {
   "cell_type": "code",
   "execution_count": 1,
   "metadata": {},
   "outputs": [],
   "source": [
    "import os\n",
    "import re\n",
    "import pickle\n",
    "import json\n",
    "import numpy as np\n",
    "from tqdm.auto import tqdm\n",
    "import pandas as pd\n",
    "from hack_lap.utils.evaluate import precision_recall, estimate_prediction"
   ]
  },
  {
   "cell_type": "code",
   "execution_count": 2,
   "metadata": {},
   "outputs": [],
   "source": [
    "import matplotlib\n",
    "# matplotlib.use('Qt5Agg')\n",
    "# %matplotlib qt5\n",
    "%matplotlib inline\n",
    "import matplotlib.pyplot as plt"
   ]
  },
  {
   "cell_type": "code",
   "execution_count": 3,
   "metadata": {},
   "outputs": [],
   "source": [
    "def calculate_metrics_one_vs_rest(yt, yp, cls_count_0=5000, cls_count_1=200, eps=1e-6):\n",
    "    yt, yp = estimate_prediction(yt, yp, cls_count_0, cls_count_1)\n",
    "    tp = (yp * yt).sum()\n",
    "    tn = ((1 - yp) * (1 - yt)).sum()\n",
    "    fp = (yp * (1 - yt)).sum()\n",
    "    fn = ((1 - yp) * yt).sum()\n",
    "\n",
    "    recall_1 = tp / (tp + fn)\n",
    "    recall_0 = tn / (tn + fp)\n",
    "    precision_1 = recall_1 * cls_count_1 / (recall_1 * cls_count_1 + (1.0 - recall_0) * cls_count_0)\n",
    "    precision_0 = recall_0 * cls_count_0 / (recall_0 * cls_count_0 + (1.0 - recall_1) * cls_count_1)\n",
    "    f1_1 = 2 * recall_1 * precision_1 / (recall_1 + precision_1 + eps)\n",
    "    f1_0 = 2 * recall_0 * precision_0 / (recall_0 + precision_0 + eps)\n",
    "    return recall_1, precision_1, f1_1\n"
   ]
  },
  {
   "cell_type": "code",
   "execution_count": 4,
   "metadata": {},
   "outputs": [
    {
     "data": {
      "text/plain": [
       "4"
      ]
     },
     "execution_count": 4,
     "metadata": {},
     "output_type": "execute_result"
    }
   ],
   "source": [
    "DIR_DATA = os.path.join('..', 'data')\n",
    "DIR_PREDICT = os.path.join(DIR_DATA, 'predict') \n",
    "DIR_MODEL = os.path.join(DIR_DATA, 'model')\n",
    "files = [n for n in os.listdir(DIR_MODEL) if n.endswith('.pkl') and 'Nepoch' in n]\n",
    "\n",
    "files = [n for n in files if 'Patt' in n]\n",
    "\n",
    "ps = re.compile(f'seed-(\\d+)', re.I)\n",
    "seeds = sorted([int(g.group(1)) for f in files for g in ps.finditer(f)])\n",
    "len(files)"
   ]
  },
  {
   "cell_type": "code",
   "execution_count": 5,
   "metadata": {},
   "outputs": [
    {
     "data": {
      "application/vnd.jupyter.widget-view+json": {
       "model_id": "fad24c34a1ba4d4ca68e580c09e48e1b",
       "version_major": 2,
       "version_minor": 0
      },
      "text/plain": [
       "  0%|          | 0/4 [00:00<?, ?it/s]"
      ]
     },
     "metadata": {},
     "output_type": "display_data"
    }
   ],
   "source": [
    "predict = []\n",
    "weights = []\n",
    "for f in tqdm(files):\n",
    "    with open(os.path.join(DIR_MODEL, f), 'rb') as fp:\n",
    "        data = pickle.load(fp)\n",
    "    yt_dev, yp_dev, yp_test = data['yt_dev'], data['yp_dev'], data['yp_test']\n",
    "\n",
    "    yp_dev = np.mean(yp_dev, axis=1).ravel()\n",
    "    rp0, rp1, th = precision_recall(yt_dev, yp_dev)\n",
    "    f1 = 2 * rp1[0] * rp1[1] / (rp1[0] + rp1[1] + 1e-6)\n",
    "    ii = np.argmax(f1)\n",
    "    f1 = f1[ii]\n",
    "    th = th[ii]\n",
    "\n",
    "    yp_test = np.mean(yp_test, axis=1)\n",
    "    yp_test = (yp_test > th).astype(int).reshape(-1, 1)\n",
    "    predict.append(yp_test)\n",
    "    \n",
    "    re, pr, f1 = calculate_metrics_one_vs_rest(yt_dev, yp_dev)\n",
    "    weights.append(f1)"
   ]
  },
  {
   "cell_type": "code",
   "execution_count": 6,
   "metadata": {},
   "outputs": [
    {
     "name": "stdout",
     "output_type": "stream",
     "text": [
      "(1614, 4)\n",
      "# active: 30\n"
     ]
    }
   ],
   "source": [
    "submission = np.concatenate(predict, axis=1).astype(np.float64)\n",
    "w = np.array(weights).reshape(1, -1)\n",
    "submission *= w\n",
    "print(submission.shape)\n",
    "\n",
    "submission = np.sum(submission, axis=1) / np.sum(w)\n",
    "th = 0.5\n",
    "cls_pred = (submission > th).astype(int)\n",
    "print(f'# active: {np.sum(cls_pred)}')"
   ]
  },
  {
   "cell_type": "code",
   "execution_count": 7,
   "metadata": {},
   "outputs": [
    {
     "data": {
      "image/png": "[encoded data removed]",
      "text/plain": [
       "<Figure size 432x288 with 1 Axes>"
      ]
     },
     "metadata": {
      "needs_background": "light"
     },
     "output_type": "display_data"
    }
   ],
   "source": [
    "plt.plot(submission);"
   ]
  },
  {
   "cell_type": "code",
   "execution_count": 8,
   "metadata": {},
   "outputs": [],
   "source": [
    "df = pd.read_csv(os.path.join(DIR_DATA, 'test.csv'))\n",
    "df['Active'] = cls_pred\n",
    "\n",
    "seed_hash = hash(''.join(map(str, seeds)))\n",
    "name = f'mdl-L4-H32-Patt-NF-BF-#seeds-{len(seeds)}_hash-{seed_hash}_mean_f1_weighted_th-{th}'\n",
    "\n",
    "df.to_csv(os.path.join(DIR_PREDICT, name + '.csv'), index=False)\n",
    "\n",
    "with open(os.path.join(DIR_PREDICT, name + '.json'), 'w') as fp:\n",
    "    json.dump({'seeds': seeds}, fp, indent=2)"
   ]
  },
  {
   "cell_type": "code",
   "execution_count": null,
   "metadata": {},
   "outputs": [],
   "source": []
  }
 ],
 "metadata": {
  "kernelspec": {
   "display_name": "hackathon: lap",
   "language": "python",
   "name": "hackathon-lap"
  },
  "language_info": {
   "codemirror_mode": {
    "name": "ipython",
    "version": 3
   },
   "file_extension": ".py",
   "mimetype": "text/x-python",
   "name": "python",
   "nbconvert_exporter": "python",
   "pygments_lexer": "ipython3",
   "version": "3.8.12"
  }
 },
 "nbformat": 4,
 "nbformat_minor": 4
}
