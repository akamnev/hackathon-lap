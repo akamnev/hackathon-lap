{
 "cells": [
  {
   "cell_type": "markdown",
   "metadata": {},
   "source": [
    "# Пробуем работать с RDKIT"
   ]
  },
  {
   "cell_type": "code",
   "execution_count": 1,
   "metadata": {},
   "outputs": [],
   "source": [
    "import os\n",
    "import pandas as pd\n",
    "from tqdm.auto import tqdm\n",
    "from rdkit import Chem\n",
    "from rdkit.Chem import Draw\n",
    "import networkx as nx\n",
    "from collections import defaultdict\n",
    "from hack_lap.utils import BondType\n",
    "import numpy as np"
   ]
  },
  {
   "cell_type": "code",
   "execution_count": 2,
   "metadata": {},
   "outputs": [],
   "source": [
    "import matplotlib\n",
    "# matplotlib.use('Qt5Agg')\n",
    "# %matplotlib qt5\n",
    "%matplotlib inline\n",
    "import matplotlib.pyplot as plt"
   ]
  },
  {
   "cell_type": "code",
   "execution_count": 3,
   "metadata": {},
   "outputs": [
    {
     "data": {
      "text/html": [
       "<div>\n",
       "<style scoped>\n",
       "    .dataframe tbody tr th:only-of-type {\n",
       "        vertical-align: middle;\n",
       "    }\n",
       "\n",
       "    .dataframe tbody tr th {\n",
       "        vertical-align: top;\n",
       "    }\n",
       "\n",
       "    .dataframe thead th {\n",
       "        text-align: right;\n",
       "    }\n",
       "</style>\n",
       "<table border=\"1\" class=\"dataframe\">\n",
       "  <thead>\n",
       "    <tr style=\"text-align: right;\">\n",
       "      <th></th>\n",
       "      <th>Smiles</th>\n",
       "      <th>Active</th>\n",
       "    </tr>\n",
       "  </thead>\n",
       "  <tbody>\n",
       "    <tr>\n",
       "      <th>0</th>\n",
       "      <td>COc1ccc2[nH]cc(CCN)c2c1</td>\n",
       "      <td>False</td>\n",
       "    </tr>\n",
       "    <tr>\n",
       "      <th>1</th>\n",
       "      <td>CCCN1CCC[C@H](c2cccc(O)c2)C1.Cl</td>\n",
       "      <td>False</td>\n",
       "    </tr>\n",
       "    <tr>\n",
       "      <th>2</th>\n",
       "      <td>O=C(NO)c1cnc(N2CCN(S(=O)(=O)c3ccc4ccccc4c3)CC2...</td>\n",
       "      <td>False</td>\n",
       "    </tr>\n",
       "    <tr>\n",
       "      <th>3</th>\n",
       "      <td>Nc1cccc(CNC(=O)c2ccc(Oc3ccc(OCc4cccc(F)c4)cc3)...</td>\n",
       "      <td>False</td>\n",
       "    </tr>\n",
       "    <tr>\n",
       "      <th>4</th>\n",
       "      <td>Fc1ccccc1CNCc1ccc(-c2ccnc3[nH]ccc23)cc1</td>\n",
       "      <td>False</td>\n",
       "    </tr>\n",
       "    <tr>\n",
       "      <th>...</th>\n",
       "      <td>...</td>\n",
       "      <td>...</td>\n",
       "    </tr>\n",
       "    <tr>\n",
       "      <th>5552</th>\n",
       "      <td>O=C(Oc1ccc([N+](=O)[O-])cc1)N1CCC(C(O)(c2ccc3c...</td>\n",
       "      <td>False</td>\n",
       "    </tr>\n",
       "    <tr>\n",
       "      <th>5553</th>\n",
       "      <td>Nc1nonc1/C(=N/O)Nc1ccc(F)c(Br)c1</td>\n",
       "      <td>False</td>\n",
       "    </tr>\n",
       "    <tr>\n",
       "      <th>5554</th>\n",
       "      <td>Oc1cccc2cccnc12</td>\n",
       "      <td>False</td>\n",
       "    </tr>\n",
       "    <tr>\n",
       "      <th>5555</th>\n",
       "      <td>OC(c1ccc(-c2ccc(CN3CCN(Cc4ccncc4)CC3)cc2)c(F)c...</td>\n",
       "      <td>False</td>\n",
       "    </tr>\n",
       "    <tr>\n",
       "      <th>5556</th>\n",
       "      <td>CCCCNc1ccc(C(=O)OCCN(C)C)cc1.Cl</td>\n",
       "      <td>False</td>\n",
       "    </tr>\n",
       "  </tbody>\n",
       "</table>\n",
       "<p>5557 rows × 2 columns</p>\n",
       "</div>"
      ],
      "text/plain": [
       "                                                 Smiles  Active\n",
       "0                               COc1ccc2[nH]cc(CCN)c2c1   False\n",
       "1                       CCCN1CCC[C@H](c2cccc(O)c2)C1.Cl   False\n",
       "2     O=C(NO)c1cnc(N2CCN(S(=O)(=O)c3ccc4ccccc4c3)CC2...   False\n",
       "3     Nc1cccc(CNC(=O)c2ccc(Oc3ccc(OCc4cccc(F)c4)cc3)...   False\n",
       "4               Fc1ccccc1CNCc1ccc(-c2ccnc3[nH]ccc23)cc1   False\n",
       "...                                                 ...     ...\n",
       "5552  O=C(Oc1ccc([N+](=O)[O-])cc1)N1CCC(C(O)(c2ccc3c...   False\n",
       "5553                   Nc1nonc1/C(=N/O)Nc1ccc(F)c(Br)c1   False\n",
       "5554                                    Oc1cccc2cccnc12   False\n",
       "5555  OC(c1ccc(-c2ccc(CN3CCN(Cc4ccncc4)CC3)cc2)c(F)c...   False\n",
       "5556                    CCCCNc1ccc(C(=O)OCCN(C)C)cc1.Cl   False\n",
       "\n",
       "[5557 rows x 2 columns]"
      ]
     },
     "execution_count": 3,
     "metadata": {},
     "output_type": "execute_result"
    }
   ],
   "source": [
    "filename = os.path.join('..', 'data', 'train.csv')\n",
    "df = pd.read_csv(filename)\n",
    "df = df.loc[:, ['Smiles', 'Active']].astype({'Active': bool})\n",
    "# df.drop_duplicates(subset=['Smiles'], inplace=True)\n",
    "df"
   ]
  },
  {
   "cell_type": "code",
   "execution_count": 4,
   "metadata": {},
   "outputs": [
    {
     "data": {
      "text/plain": [
       "False    5351\n",
       "True      206\n",
       "Name: Active, dtype: int64"
      ]
     },
     "execution_count": 4,
     "metadata": {},
     "output_type": "execute_result"
    }
   ],
   "source": [
    "df['Active'].value_counts()"
   ]
  },
  {
   "cell_type": "code",
   "execution_count": 11,
   "metadata": {},
   "outputs": [
    {
     "data": {
      "text/plain": [
       "['CC(=O)SC[C@@H](C)C(=O)N1CCC[C@H]1C(=O)N[C@@H](Cc1ccccc1)C(=O)O',\n",
       " 'COc1cc(N2CCN(C)CC2)ccc1Nc1ncc2c(n1)N(C)c1ccccc1C(=O)N2C',\n",
       " 'C=CC(=O)Nc1cc2c(Nc3ccc(F)c(Cl)c3)ncnc2cc1OCCCN1CCOCC1',\n",
       " 'O=C(NC(Cc1c[nH]c2ccccc12)C(=O)O)c1ccc(Cl)cc1',\n",
       " 'O=C(O)/C=C\\\\C(=O)O.c1ccc(CCCCN2CCC(c3ccccc3)CC2)cc1']"
      ]
     },
     "execution_count": 11,
     "metadata": {},
     "output_type": "execute_result"
    }
   ],
   "source": [
    "passive = df.loc[~df['Active'], :]['Smiles'].tolist()\n",
    "np.random.shuffle(passive)\n",
    "passive[:5]"
   ]
  },
  {
   "cell_type": "code",
   "execution_count": 29,
   "metadata": {},
   "outputs": [
    {
     "data": {
      "text/plain": [
       "['[O-][n+]1ccccc1S',\n",
       " 'O=c1cc(-c2ccc(O)cc2)oc2cc(O)cc(O)c12',\n",
       " 'C=C1c2cccc(O)c2C(=O)C2C(=O)[C@]3(O)C(=O)C(C(N)=O)C(=O)[C@@H](N(C)C)[C@@H]3[C@@H](O)[C@H]12.Cl',\n",
       " 'Cc1cn2c(N)c(Cl)cc(C(=O)NCC3CCN(CC(C)C)CC3)c2n1',\n",
       " 'C/C=C1\\\\C(OC2OC(CO)C(O)C(O)C2O)OC=C(C(=O)OC)C1CC(=O)OCCc1ccc(O)c(O)c1']"
      ]
     },
     "execution_count": 29,
     "metadata": {},
     "output_type": "execute_result"
    }
   ],
   "source": [
    "active = df.loc[df['Active'], :]['Smiles'].tolist()\n",
    "np.random.shuffle(active)\n",
    "active[:5]"
   ]
  },
  {
   "cell_type": "code",
   "execution_count": 32,
   "metadata": {},
   "outputs": [
    {
     "data": {
      "image/png": "[encoded data removed]",
      "text/plain": [
       "<rdkit.Chem.rdchem.Mol at 0x7f76e9bcdfa0>"
      ]
     },
     "execution_count": 32,
     "metadata": {},
     "output_type": "execute_result"
    }
   ],
   "source": [
    "s = 'C=C1c2cccc(O)c2C(=O)C2C(=O)[C@]3(O)C(=O)C(C(N)=O)C(=O)[C@@H](N(C)C)[C@@H]3[C@@H](O)[C@H]12'\n",
    "Chem.MolFromSmiles(s)"
   ]
  },
  {
   "cell_type": "code",
   "execution_count": 15,
   "metadata": {},
   "outputs": [
    {
     "data": {
      "image/png": "[encoded data removed]",
      "text/plain": [
       "<rdkit.Chem.rdchem.Mol at 0x7f76e9b9cdc0>"
      ]
     },
     "execution_count": 15,
     "metadata": {},
     "output_type": "execute_result"
    }
   ],
   "source": [
    "s = 'c1ccc(CCCCN2CCC(c3ccccc3)CC2)cc1'\n",
    "Chem.MolFromSmiles(s)"
   ]
  },
  {
   "cell_type": "code",
   "execution_count": 30,
   "metadata": {},
   "outputs": [
    {
     "data": {
      "image/png": "[encoded data removed]",
      "text/plain": [
       "<rdkit.Chem.rdchem.Mol at 0x7fb1b4e6adc0>"
      ]
     },
     "execution_count": 30,
     "metadata": {},
     "output_type": "execute_result"
    }
   ],
   "source": [
    "s = 'O=C(/C=C/c1ccc(O)c(O)c1)O[C@@H](C(=O)O)[C@@H](OC(=O)/C=C/c1ccc(O)c(O)c1)C(=O)O'\n",
    "Chem.MolFromSmiles(s)"
   ]
  },
  {
   "cell_type": "code",
   "execution_count": 8,
   "metadata": {},
   "outputs": [
    {
     "data": {
      "text/plain": [
       "['Nc1ccc(O)c2ncccc12',\n",
       " 'C[C@H]1COc2c(N3CCN(C)CC3)c(F)cc3c(=O)c(C(=O)O)cn1c23',\n",
       " 'Cl.NCCc1cc(O)c(O)cc1O',\n",
       " 'Cc1ccc(-n2sc(=O)n(Cc3ccc(F)cc3)c2=O)cc1',\n",
       " 'Oc1cc2c(cc1C(c1ccc(C(F)(F)F)cc1)N1CCOCC1)OCO2',\n",
       " 'CN1CCC(CNc2ccc3ncc(-c4cccc(OC(F)(F)F)c4)n3n2)CC1',\n",
       " 'CC(Cc1ccc(O)c(O)c1)C(C)Cc1ccc(O)c(O)c1',\n",
       " 'O=C(NCC(=O)N1CCCC1)Nc1ccc2cnccc2c1',\n",
       " 'CC[C@@H](C)Nc1cc(C(=O)NC2CC3CCC(C2)N3c2ccc(C(=O)C3CC3)cn2)c(C)cc1C(N)=O',\n",
       " 'C[N+]1(C)[C@H]2C[C@H](OC(=O)[C@H](CO)c3ccccc3)C[C@@H]1[C@H]1O[C@@H]21.[Br-]',\n",
       " 'Sc1nnnn1-c1ccccc1',\n",
       " 'O=c1sn(-c2cccc3ccccc23)c(=O)n1Cc1ccccc1',\n",
       " 'CCn1c(=O)c(-c2cc[nH]n2)cc2c(C)nc(N)nc21',\n",
       " '[O-]n1ccccc1=S.[O-]n1ccccc1=S.[Zn+2]',\n",
       " 'COc1c(Cl)cc2c([nH]c3cnccc32)c1NC(=O)c1cccnc1C',\n",
       " 'COc1cc(OC)c2ccc(=O)oc2c1',\n",
       " 'N#CCC1(n2cc(-c3ncnc4[nH]ccc34)cn2)CN(C2CCN(C(=O)c3ccnc(C(F)(F)F)c3F)CC2)C1',\n",
       " 'CCCCOCCOc1nc(-c2ccc(C(=O)O)c(F)c2)sc1C',\n",
       " 'CCN(CC)c1ccc(C(=C2C=CC(=[N+](CC)CC)C=C2)c2ccccc2)cc1.O=S(=O)([O-])O',\n",
       " 'CC(=O)Nc1ccc(CC(=O)O)cc1',\n",
       " 'O=c1ccc2ccc(O)cc2o1',\n",
       " 'CCOc1ccc(Nc2nc(-c3c(C)nc4ccccn34)cs2)cc1',\n",
       " 'CCC1=C[C@@H]2CN(C1)Cc1c([nH]c3ccccc13)[C@@](C(=O)OC)(c1cc3c(cc1OC)N(C)[C@H]1[C@@](O)(C(=O)OC)[C@H](OC(C)=O)[C@]4(CC)C=CCN5CC[C@]31[C@@H]54)C2.O=C(O)C(O)C(O)C(=O)O.O=C(O)C(O)C(O)C(=O)O',\n",
       " 'O=C(O)[C@H]1O[C@@H](Oc2cc3oc(-c4ccccc4)cc(=O)c3c(O)c2O)[C@H](O)[C@@H](O)[C@@H]1O',\n",
       " 'O=c1c(O)cccc2cc(O)c(O)c(O)c12',\n",
       " 'CC(CN1CC(=O)NC(=O)C1)N1CC(=O)NC(=O)C1',\n",
       " 'Cn1c(=O)c(Oc2ccc(F)cc2F)cc2cnc(NC3CCOCC3)nc21',\n",
       " 'S=c1[nH]nc(-c2ccccc2)o1',\n",
       " 'C=C1C(=O)[C@]23[C@H](O)[C@H]1CC[C@@H]2[C@@]12CO[C@]3(O)C[C@@H]1C(C)(C)CC[C@@H]2O',\n",
       " 'Cc1cn2c(N)c(Cl)cc(C(=O)NCC3CCN(CC(C)C)CC3)c2n1',\n",
       " 'CN(C)C(=S)SSC(=S)N(C)C',\n",
       " 'Cc1cc(-c2ccc(/N=N/c3ccc4c(S(=O)(=O)O)cc(S(=O)(=O)O)c(N)c4c3O)c(C)c2)ccc1/N=N/c1ccc2c(S(=O)(=O)O)cc(S(=O)(=O)O)c(N)c2c1O',\n",
       " 'O=C(O)C(=O)CBr',\n",
       " 'CCCn1c(=O)[nH]c2nc(-c3ccc(S(=O)(=O)O)cc3)[nH]c2c1=O',\n",
       " 'CCOC(=O)c1ccc(C#Cc2ccc3c(c2)C(C)(C)CCS3)nc1',\n",
       " 'O=C(/C=C/c1ccc2ccccc2n1)c1ccncc1',\n",
       " 'CC(O)C(=O)O.CCOc1ccc2nc3cc(N)ccc3c(N)c2c1',\n",
       " 'CN1C(=O)C(N2CCCCC2)S/C1=C\\\\C(=O)O',\n",
       " 'COc1ccc(-c2cc(=O)c3ccccc3o2)cc1',\n",
       " 'Sc1nnc(-c2ccccc2Cl)o1',\n",
       " 'CCN(CC)C(=S)SSC(=S)N(CC)CC',\n",
       " 'CCCCCCc1ccc(O)cc1O.Nc1c2ccccc2nc2ccccc12',\n",
       " 'CN1C[C@@H]2C[C@H]1CN2c1cc2c(cc1F)c(=O)c(C(=O)O)cn2C1CC1.CS(=O)(=O)O',\n",
       " 'CCOc1cc(C(Nc2cc(C)ccn2)c2ccc3cccnc3c2O)ccc1OC',\n",
       " 'CCCCCCCCCCCCCCSCC(=O)O',\n",
       " 'O=c1c(O[C@@H]2O[C@H](CO)[C@H](O)[C@H](O)[C@H]2O)c(-c2ccc(O)c(O)c2)oc2cc(O)cc(O)c12',\n",
       " 'CNCc1ccc(-c2[nH]c3cc(F)cc4c3c2CCNC4=O)cc1.O=P(O)(O)O',\n",
       " 'CN1CCN(C(=O)c2ccc(-c3ccc4c(C=O)c(O)ccc4c3)s2)CC1',\n",
       " 'CC[C@@]1(O)C(=O)OCc2c1cc1n(c2=O)Cc2cc3ccccc3nc2-1',\n",
       " 'CC[C@@H](c1ccc(F)c(F)c1)n1c(C(=O)OC)c(-c2ccno2)[nH]c1=S',\n",
       " 'CN(CCOc1ccc(-c2ccc3c(c2)OCO3)cc1C(C)(C)C)CC(=O)O',\n",
       " 'CCOC(=S)SSC(=S)OCC',\n",
       " 'O=C(/C=C/c1ccc(O)c2c1[C@@H](C(=O)O[C@H](Cc1ccc(O)c(O)c1)C(=O)O)[C@H](c1ccc(O)c(O)c1)O2)O[C@H](Cc1ccc(O)c(O)c1)C(=O)O',\n",
       " 'C=C1c2cccc(O)c2C(=O)C2C(=O)[C@]3(O)C(=O)C(C(N)=O)C(=O)[C@@H](N(C)C)[C@@H]3[C@@H](O)[C@H]12.Cl',\n",
       " 'COc1ccc(NC(=O)CC2Sc3ncnn3C2=O)cc1',\n",
       " 'Oc1cc2c(cc1O)C(c1ccccc1)CNCC2',\n",
       " 'Cn1c(CCCC(=O)O)nc2cc(N(CCCl)CCCl)ccc21',\n",
       " 'COc1cccc2c1C(=O)c1c(O)c3c(c(O)c1C2=O)C[C@@](O)(/C(CO)=N/NC(=O)CCCCCN1C(=O)C=CC1=O)C[C@@H]3O[C@H]1C[C@H](N)[C@H](O)[C@H](C)O1',\n",
       " 'O=C(O[C@@H]1Cc2c(O)cc(O)cc2O[C@@H]1c1cc(O)c(O)c(O)c1)c1cc(O)c(O)c(O)c1',\n",
       " 'O=c1cc(-c2ccccc2)oc2cc(O)c(O)c(O)c12',\n",
       " 'O=C(/C=C/c1ccc(O)c(O)c1)O[C@H](Cc1ccc(O)c(O)c1)C(=O)O',\n",
       " 'O=C1c2c(O)cc(O)cc2O[C@H](c2cc(O)c(O)c(O)c2)[C@H]1O',\n",
       " 'COc1ccc(-c2ccc3c(N4CCOC[C@@H]4C)nc(N4CCOC[C@@H]4C)nc3n2)cc1CO',\n",
       " 'Clc1ccc([C@@H](OCCN2CCCCC2)c2ccccc2)cc1',\n",
       " '[O-][S+](c1ccccc1)c1ccc2nnnn2n1',\n",
       " 'C[C@@H]1COCCN1c1cc(C2([S@](C)(=N)=O)CC2)nc(-c2cc[nH]c3nccc2-3)n1',\n",
       " 'CCOC(=O)Cc1ccc(-c2ccccc2)cc1',\n",
       " 'O=c1ccc2cc(O[C@@H]3O[C@H](CO)[C@@H](O)[C@H](O)[C@@H]3O)c(O)cc2o1',\n",
       " 'CCOC(=O)c1c(N)sc(-c2ccccc2)c1C',\n",
       " 'Cc1cc(=O)oc2cc(O)ccc12',\n",
       " 'N.S=C(S)N1CCCC1',\n",
       " 'N=C(N)N=Nc1ccc(NNC(=N)S)cc1',\n",
       " 'COc1ccc2[nH]c([S+]([O-])Cc3ncc(C)c(OC)c3C)nc2c1',\n",
       " 'CCOC(=O)Nc1ccc(NCc2ccc(F)cc2)nc1N.O=C(O)/C=C\\\\C(=O)O',\n",
       " 'O=C1C(=Cc2cccnc2)C(=O)c2ccccc21',\n",
       " 'c1ccc(Nc2nc(-c3ccccc3)nc3ccccc23)cc1',\n",
       " 'O=[N+]([O-])C(Br)(CO)CO',\n",
       " 'Sc1nc2ccccc2s1',\n",
       " 'O=c1ccc2ccc(O)c(O)c2o1',\n",
       " 'COc1ccc2[nH]c3c(S)ncnc3c2c1',\n",
       " 'Oc1cc(O)cc(/C=C/c2ccc(O)c(O)c2)c1',\n",
       " 'COc1ccc(C2CC(c3ccccc3)=NN2c2ccc(S(N)(=O)=O)cc2)cc1',\n",
       " 'Oc1ccc2ccccc2c1SSc1c(O)ccc2ccccc12',\n",
       " 'O=C(OC[C@H]1O[C@H](OC(=O)c2cc(O)c(O)c(OC(=O)c3cc(O)c(O)c(O)c3)c2)[C@H](OC(=O)c2cc(O)c(O)c(OC(=O)c3cc(O)c(O)c(O)c3)c2)[C@@H](OC(=O)c2cc(O)c(O)c(OC(=O)c3cc(O)c(O)c(O)c3)c2)[C@@H]1OC(=O)c1cc(O)c(O)c(OC(=O)c2cc(O)c(O)c(O)c2)c1)c1cc(O)c(O)c(OC(=O)c2cc(O)c(O)c(O)c2)c1',\n",
       " 'Cl.NC(CO)C(=O)NNCc1ccc(O)c(O)c1O',\n",
       " 'CCc1c2c(nc3ccc(OC(=O)N4CCC(N5CCCCC5)CC4)cc13)-c1cc3c(c(=O)n1C2)COC(=O)[C@]3(O)CC.Cl.O.O.O',\n",
       " 'Oc1cc(O)c2cc(O)c(-c3cc(O)c(O)c(O)c3)[o+]c2c1.[Cl-]',\n",
       " 'Cn1sc(=O)n(Cc2ccccc2)c1=O',\n",
       " 'Oc1cc2c(c(Cl)c1O)CCNCC2c1ccccc1',\n",
       " 'COc1cc(N(C)C)cc(CN(C)CCc2ccc([N+](=O)[O-])cc2)c1O',\n",
       " 'CN1CCN(C2=C(Cl)C(=O)N(c3ccc(Cl)c(Cl)c3)C2=O)CC1',\n",
       " 'COc1ccc(CN2C3CC2CN(c2ccc(-c4cc(OCC(C)(C)O)cn5ncc(C#N)c45)cn2)C3)cn1',\n",
       " 'Cc1cc(SCc2sc(-c3ccc(C(F)(F)F)c(F)c3)nc2C)ccc1OCC(=O)O',\n",
       " 'O=C(c1cc(O)c(O)c(O)c1)c1ccc(O)c(O)c1O',\n",
       " 'CCCCCCCCCCCCCCCC[n+]1ccn(Cc2ccccc2)c1C.[I-]',\n",
       " 'Oc1cc(CNC(=S)/C=C/c2cc(O)c(O)c(Br)c2)cc(O)c1O',\n",
       " 'Cc1ccc(-n2sc3ccccc3c2=O)cc1',\n",
       " 'C[S@@+]([O-])CCCCN=C=S',\n",
       " 'CCN(CC)C(=O)N[C@H]1C=C2c3cccc4[nH]cc(c34)C[C@H]2N(C)C1.O=C(O)/C=C\\\\C(=O)O',\n",
       " 'O=C(c1c2ccccc2cc2ccccc12)N1CCC(N2CCC[C@@H](C(=O)N3CCOCC3)C2)CC1',\n",
       " 'O=C(O)CCCCCCCCCCCCCCc1ccc(I)cc1',\n",
       " 'COc1cc(C[C@H]2NCCc3cc(O)c(O)cc32)cc(OC)c1OC.Cl',\n",
       " 'NCC(=O)N[C@@H](CCC(N)=O)C(=O)O',\n",
       " 'N#CSc1cc(SC#N)c(N)nc1N',\n",
       " '[O-][n+]1ccccc1S',\n",
       " 'Cc1ccccc1NC(=O)Nc1ccc(CC(=O)N(C)[C@@H](CC(C)C)C(=O)NCC[C@H](NC(=O)[C@@H]2CCCN2S(=O)(=O)c2cc(Cl)cc(Cl)c2)C(=O)O)cc1',\n",
       " 'Cc1c(OCC(F)(F)F)ccnc1C[S+]([O-])c1nc2ccccc2[nH]1',\n",
       " 'Oc1cc2c(cc1O)CN(C(=S)NCCc1ccc(Cl)cc1)CCC2',\n",
       " 'C/C=C1\\\\C(OC2OC(CO)C(O)C(O)C2O)OC=C(C(=O)OC)C1CC(=O)OCCc1ccc(O)c(O)c1',\n",
       " 'CCC(CC)n1ccc2c(C(=O)NCc3c(C)cc(C)[nH]c3=O)cc(C#N)cc21',\n",
       " 'Cc1ccc(S(=O)(=O)c2ccc([N+](=O)[O-])o2)cc1',\n",
       " 'CN(C)C(=S)SC(=S)N(C)C',\n",
       " 'C[C@H](NC(=O)/C(C#N)=C/c1cccc(Br)n1)c1ccccc1',\n",
       " 'CNCc1ccc(-c2[nH]c3cc(F)cc4c3c2CCNC4=O)cc1',\n",
       " 'O=[N+]([O-])c1cnc(Sc2nnc(O)n2-c2ccc3c(c2)OCCO3)s1',\n",
       " 'COc1cccc(C(=O)CCN[C@@H](C)[C@H](O)c2ccccc2)c1.Cl',\n",
       " 'CCn1c(O)nnc1-c1ccc(Cl)cc1',\n",
       " 'CN1CCc2cc3c(cc2C1O)OCO3.Cl',\n",
       " 'CCN1CCN(C(c2ccc(C(F)(F)F)cc2)c2ccc3cccnc3c2O)CC1',\n",
       " 'O=[N+]([O-])c1ccc(Sc2cccc[n+]2[O-])c2nonc12',\n",
       " 'CCC(=O)OCN1C(=O)C=CC1=O',\n",
       " 'Cc1ccccc1[C@@H](OCCN(C)C)c1ccccc1',\n",
       " 'O[C@@H](CN1CCC(Cc2ccc(F)cc2)CC1)c1ccc(Cl)cc1',\n",
       " 'CN(C)S(=O)(=O)c1cccc(-n2sc3ccccc3c2=O)c1',\n",
       " 'O=C([O-])c1c(Cl)c(Cl)c(Cl)c(Cl)c1-c1c2cc(I)c(=O)c(I)c-2oc2c(I)c([O-])c(I)cc12.[Na+].[Na+]',\n",
       " 'CC(C)C[C@@H](C=O)NC(=O)[C@H](CC(C)C)NC(=O)[C@H](CC(C)C)NC(=O)OCc1ccccc1',\n",
       " 'Cl.N=C(N)c1ccc(-c2ccc(-c3ccc(C(=N)N)cc3)o2)cc1',\n",
       " 'N[C@@H]1C[C@H]1c1ccccc1',\n",
       " 'CCCC[S+]([O-])c1sc2nc(-c3cccs3)cc(-c3ccccc3)c2c1N',\n",
       " 'C=CCn1c(NS(=O)(=O)c2ccccc2)c(S(=O)(=O)c2ccc(C)cc2)c2nc3ccccc3nc21',\n",
       " 'C[n+]1cc2c3c(ccc2c2ccc4cc5c(cc4c21)OCO5)OCO3.[Cl-]',\n",
       " 'Nc1nc(S)c2ncn(C3OC(CO)C(O)C3O)c2n1',\n",
       " 'CNC(=O)ON(C(C)=O)C(=O)NC',\n",
       " 'CC[C@@H](CO)NC(=O)[C@@H]1C=C2c3cccc4[nH]cc(c34)C[C@H]2N(C)C1.O=C(O)/C=C\\\\C(=O)O',\n",
       " 'O=c1c(O)c(-c2cc(O)c(O)c(O)c2)oc2cc(O)cc(O)c12',\n",
       " 'C=CC(=O)c1ccc2ccccc2c1',\n",
       " 'Oc1c(I)cc(I)c(O)c1I',\n",
       " 'CCCCCCCCN=c1ccn(CCCCCCCCCCn2ccc(=NCCCCCCCC)cc2)cc1.Cl.Cl',\n",
       " 'C/N=c1/nc(-c2ccccc2)n(-c2ccccc2)s1',\n",
       " 'O=C(CC1Sc2ncnn2C1=O)Nc1ccc(Br)cc1',\n",
       " 'Cc1nccc2c1[nH]c1ccccc12',\n",
       " 'Cc1ccc(S(=O)(=O)N[C@@H](Cc2ccccc2)C(=O)CCl)cc1',\n",
       " 'CC[C@]12C=CCN3CC[C@@]4(c5cc([C@@]6(C(=O)OC)C[C@@H]7C[C@@H](C(C)(F)F)CN(Cc8c6[nH]c6ccccc86)C7)c(OC)cc5N(C)[C@H]4[C@@](O)(C(=O)OC)[C@@H]1OC(C)=O)[C@@H]32.O=C(O)C(O)C(O)C(=O)O.O=C(O)C(O)C(O)C(=O)O',\n",
       " 'CCN1CCN(Cc2ccc(-c3cc4c(N[C@H](C)c5ccccc5)ncnc4[nH]3)cc2)CC1',\n",
       " 'c1cnc(SCc2cccnc2)nc1',\n",
       " 'O=C1c2ccccc2S(=O)(=O)N1CCl',\n",
       " 'O=C1OC2(c3cc(I)c(O)c(I)c3Oc3c2cc(I)c(O)c3I)c2c(Cl)c(Cl)c(Cl)c(Cl)c21',\n",
       " 'CC[C@H](CO)Nc1nc(NCc2ccc(-c3ccccn3)cc2)c2ncn(C(C)C)c2n1',\n",
       " 'CN1C(C(=O)Nc2ccccn2)=C(O)c2ccccc2S1(=O)=O',\n",
       " 'Nc1ccc(S(=O)(=O)[N-]c2ncccn2)cc1.[Ag+]',\n",
       " 'C[C@@H]1O[C@@H](O[C@@H]2[C@@H](O)[C@H](OCCc3ccc(O)c(O)c3)O[C@H](CO)[C@H]2OC(=O)/C=C/c2ccc(O)c(O)c2)[C@H](O)[C@H](O)[C@H]1O',\n",
       " 'CC(C)c1ccc2oc3nc(N)c(C(=O)O)cc3c(=O)c2c1',\n",
       " 'O=C(O)c1c(Cl)c(Cl)c(Cl)c(Cl)c1-c1c2cc(I)c(=O)c(I)c-2oc2c(I)c(O)c(I)cc12',\n",
       " 'N[C@@H](C(=O)N[C@@H]1C(=O)N2C(C(=O)O)=C(Cl)CS[C@H]12)c1ccccc1',\n",
       " 'CCc1c2c(nc3ccc(OC(=O)N4CCC(N5CCCCC5)CC4)cc13)-c1cc3c(c(=O)n1C2)COC(=O)[C@]3(O)CC',\n",
       " 'Nc1ccc2cc3ccc(N)cc3nc2c1.Nc1ccc2cc3ccc(N)cc3nc2c1.O=S(=O)(O)O',\n",
       " 'CC(C)(C)c1ccc(S(=O)(=O)/C=C/C#N)cc1',\n",
       " 'CO/N=C(\\\\C(=O)N[C@@H]1C(=O)N2C(C(=O)O)=C(CSC(=O)c3ccco3)CS[C@H]12)c1csc(N)n1.Cl',\n",
       " 'CNCc1ccc(-c2cc(-c3nc(-c4ccc(S(=O)(=O)C(C)C)cc4)cnc3N)on2)cc1',\n",
       " 'COc1ccnc(C[S+]([O-])c2nc3cc(OC(F)F)ccc3[n-]2)c1OC.[Na+]',\n",
       " 'COc1ccc(-c2cc3c(C)nc(N)nc3n([C@H]3CC[C@H](OCCO)CC3)c2=O)cn1',\n",
       " 'O=C(O)C1=CC(=C(c2ccc(O)c(C(=O)O)c2)c2ccc(O)c(C(=O)O)c2)C=CC1=O',\n",
       " 'COc1ccc2[nH]c([S@@+]([O-])Cc3ncc(C)c(OC)c3C)nc2c1',\n",
       " 'NC[C@@H]1O[C@H](C23CC4CC(CC(C4)C2)C3)Cc2c1ccc(O)c2O',\n",
       " 'NCC1(CC(=O)O)CCCCC1',\n",
       " 'O=C1C=Cc2cc(Br)ccc2C1=O',\n",
       " 'C[C@@](Cc1ccc(O)c(O)c1)(NN)C(=O)O',\n",
       " 'O=c1cc(-c2ccc(O)cc2)oc2cc(O)cc(O)c12',\n",
       " 'O=c1c2ccccc2[se]n1-c1ccccc1',\n",
       " 'NC(=O)c1cccc2cn(-c3ccc([C@@H]4CCCNC4)cc3)nc12',\n",
       " 'NC(=O)c1nc(F)cnc1O',\n",
       " 'CCN(CC)CCCCNc1ncc2cc(-c3c(Cl)cccc3Cl)c(NC(=O)NC(C)(C)C)nc2n1',\n",
       " 'Cc1ccc(S(=O)(=O)/C=C/C#N)cc1',\n",
       " 'CCN(CC)C(=S)[S-].[Na+]',\n",
       " 'O=C1C2CC=CCC2C(=O)N1SC(Cl)(Cl)Cl',\n",
       " 'Oc1cc(O)c2c(c1)O[C@H](c1ccc(O)c(O)c1)[C@H](O)C2',\n",
       " 'COc1ccc2[nH]c(S)nc2c1',\n",
       " 'c1ccc2sc(SSc3nc4ccccc4s3)nc2c1',\n",
       " 'Br.Oc1cc2c(cc1O)C(c1ccccc1)CNCC2',\n",
       " 'O=C(O)c1ccc(SSc2ccc(C(=O)O)cn2)nc1',\n",
       " 'CC[N+](CC)(CC)CCOc1cccc(OCC[N+](CC)(CC)CC)c1OCC[N+](CC)(CC)CC',\n",
       " 'Oc1cc2c(cc1O)[C@H](Cc1cccc3ccccc13)NCC2',\n",
       " 'O=C(c1cccs1)c1no[n+]([O-])c1C(=O)c1cccs1',\n",
       " 'CN1CC[C@@]2(C)c3cc(O)ccc3N(C)[C@@H]12.O=C(O)/C=C/C(=O)O',\n",
       " 'CCOC(=O)C1=C(C)NC(=S)N[C@@H]1c1cccc(O)c1',\n",
       " 'Cc1ccc(C)c(-n2sc3cc(F)ccc3c2=O)c1',\n",
       " 'CN(C)CCNc1nc2cc(O)ccc2c2c1C(=O)c1ccccc1-2',\n",
       " 'CN1C[C@H]2C[C@@H]1CN2c1cc2c(cc1F)c(=O)c(C(=O)O)cn2C1CC1',\n",
       " 'Nc1nc2[nH]cnc2c(=S)[nH]1',\n",
       " 'Nc1ncccc1-c1nc2ccc(-c3ccccc3)nc2n1-c1ccc(C2(N)CCC2)cc1',\n",
       " 'CC(=O)N[C@@H]1[C@@H](O)C[C@@](O)(C(=O)O)O[C@H]1[C@H](O)[C@H](O)CO',\n",
       " 'CC[N+](C)(CC)CCC[n+]1c(-c2ccccc2)c2cc(N)ccc2c2ccc(N)cc21.[I-].[I-]',\n",
       " 'COc1ccc2[n-]c([S@@+]([O-])Cc3ncc(C)c(OC)c3C)nc2c1.COc1ccc2[n-]c([S@@+]([O-])Cc3ncc(C)c(OC)c3C)nc2c1.[Mg+2]',\n",
       " 'Cc1cc(-c2ccc(/N=N/c3ccc4c(S(=O)(=O)[O-])cc(S(=O)(=O)[O-])c(N)c4c3O)c(C)c2)ccc1/N=N/c1ccc2c(S(=O)(=O)[O-])cc(S(=O)(=O)[O-])c(N)c2c1O.[Na+].[Na+].[Na+].[Na+]',\n",
       " 'COC(=O)/C=C/c1cc(O)ccc1O',\n",
       " 'C#CCC(Cc1cnc2nc(N)nc(N)c2n1)c1ccc(C(=O)N[C@@H](CCC(=O)O)C(=O)O)cc1',\n",
       " 'CCCCCCCCCCCCCCCCCC[S+](CCC)c1ccccc1C(=O)OCC',\n",
       " 'Fc1cc(-c2cccc3ncc(-c4cnn(C5CCNCC5)c4)nc23)cc(F)c1CN1CCOCC1',\n",
       " 'O=C(O)c1cc(O)c(O)c(O)c1',\n",
       " 'C[C@@H]1O[C@@H](Oc2c(-c3cc(O)c(O)c(O)c3)oc3cc(O)cc(O)c3c2=O)[C@@H](O)[C@H](O)[C@H]1O',\n",
       " 'Nc1nc(N)c2nc(-c3ccccc3)c(N)nc2n1',\n",
       " 'CC(C)c1c2cc(-c3ccnc(N[C@H]4CC[C@H](NC5CCOCC5)CC4)n3)ccc2nn1C',\n",
       " 'Sc1nnc(Nc2ccccc2)s1',\n",
       " 'C[C@H]1COC2=C1C(=O)C(=O)c1c2ccc2c1CCCC2(C)C',\n",
       " 'Nc1c2ccccc2nc2ccccc12',\n",
       " 'CCn1nc(C2CCN(C(=O)CCO)CC2)nc1-c1cnc(N)c(-c2nnc(C(C)(C)C)o2)n1']"
      ]
     },
     "execution_count": 8,
     "metadata": {},
     "output_type": "execute_result"
    }
   ],
   "source": [
    "df.loc[df['Active'], :]['Smiles'].tolist()"
   ]
  },
  {
   "cell_type": "code",
   "execution_count": 11,
   "metadata": {},
   "outputs": [
    {
     "data": {
      "image/png": "[encoded data removed]",
      "text/plain": [
       "<rdkit.Chem.rdchem.Mol at 0x7fb1b4e5adc0>"
      ]
     },
     "execution_count": 11,
     "metadata": {},
     "output_type": "execute_result"
    }
   ],
   "source": [
    "s = 'Cc1ccccc1[C@@H](OCCN(C)C)c1ccccc1'\n",
    "Chem.MolFromSmiles(s)"
   ]
  },
  {
   "cell_type": "code",
   "execution_count": 9,
   "metadata": {},
   "outputs": [
    {
     "data": {
      "image/png": "[encoded data removed]",
      "text/plain": [
       "<rdkit.Chem.rdchem.Mol at 0x7fb1b50a2a60>"
      ]
     },
     "execution_count": 9,
     "metadata": {},
     "output_type": "execute_result"
    }
   ],
   "source": [
    "s = 'O=C(O[C@@H]1Cc2c(O)cc(O)cc2O[C@@H]1c1cc(O)c(O)c(O)c1)c1cc(O)c(O)c(O)c1'\n",
    "Chem.MolFromSmiles(s)"
   ]
  },
  {
   "cell_type": "code",
   "execution_count": 27,
   "metadata": {},
   "outputs": [
    {
     "data": {
      "text/plain": [
       "[('C', 5552),\n",
       " ('O', 5052),\n",
       " ('N', 4759),\n",
       " ('S', 1322),\n",
       " ('Cl', 1199),\n",
       " ('F', 854),\n",
       " ('Br', 172),\n",
       " ('P', 107),\n",
       " ('Na', 80),\n",
       " ('I', 76),\n",
       " ('B', 13),\n",
       " ('Ca', 9),\n",
       " ('K', 8),\n",
       " ('Zn', 5),\n",
       " ('Se', 3),\n",
       " ('As', 2),\n",
       " ('Si', 2),\n",
       " ('Mg', 2),\n",
       " ('Li', 2),\n",
       " ('H', 1),\n",
       " ('Sr', 1),\n",
       " ('Ag', 1),\n",
       " ('Al', 1)]"
      ]
     },
     "execution_count": 27,
     "metadata": {},
     "output_type": "execute_result"
    }
   ],
   "source": [
    "count_atoms = defaultdict(list)\n",
    "for s in df['Smiles'].tolist():\n",
    "    mol = Chem.MolFromSmiles(s)\n",
    "    na = {a.GetSymbol() for a in mol.GetAtoms()}\n",
    "    for nai in na:\n",
    "        count_atoms[nai] += [s]\n",
    "sorted({k: len(v) for k, v in count_atoms.items()}.items(), key=lambda x: -x[1])"
   ]
  },
  {
   "cell_type": "code",
   "execution_count": 21,
   "metadata": {},
   "outputs": [
    {
     "data": {
      "image/png": "[encoded data removed]",
      "text/plain": [
       "<rdkit.Chem.rdchem.Mol at 0x7fa765b57b80>"
      ]
     },
     "execution_count": 21,
     "metadata": {},
     "output_type": "execute_result"
    }
   ],
   "source": [
    "name = 'Zn'\n",
    "s = count_atoms[name][0]\n",
    "mol = Chem.MolFromSmiles(s)\n",
    "mol"
   ]
  },
  {
   "cell_type": "code",
   "execution_count": 22,
   "metadata": {},
   "outputs": [
    {
     "name": "stdout",
     "output_type": "stream",
     "text": [
      "CCCN1CCC[C@H](c2cccc(O)c2)C1.Cl\n",
      "False\n"
     ]
    },
    {
     "data": {
      "image/png": "[encoded data removed]",
      "text/plain": [
       "<PIL.PngImagePlugin.PngImageFile image mode=RGB size=300x300 at 0x7FA765B01FA0>"
      ]
     },
     "execution_count": 22,
     "metadata": {},
     "output_type": "execute_result"
    }
   ],
   "source": [
    "i = 1\n",
    "s = df.loc[i, 'Smiles']\n",
    "print(s)\n",
    "print(df.loc[i, 'Active'])\n",
    "\n",
    "mol = Chem.MolFromSmiles(s)\n",
    "Draw.MolToImage(mol)"
   ]
  },
  {
   "cell_type": "code",
   "execution_count": 26,
   "metadata": {},
   "outputs": [
    {
     "name": "stdout",
     "output_type": "stream",
     "text": [
      "[1, 3, 5, 6, 7, 8, 9, 11, 12, 13, 14, 15, 16, 17, 19, 20, 30, 33, 34, 35, 38, 47, 53]\n"
     ]
    }
   ],
   "source": [
    "used_atoms = set()\n",
    "for s in df['Smiles'].tolist():\n",
    "    mol = Chem.MolFromSmiles(s)\n",
    "    used_atoms.update([a.GetAtomicNum() for a in mol.GetAtoms()])\n",
    "print(sorted(used_atoms))"
   ]
  },
  {
   "cell_type": "code",
   "execution_count": 6,
   "metadata": {},
   "outputs": [
    {
     "data": {
      "text/plain": [
       "[(0, {'id': 6, 'symbol': 'C'}),\n",
       " (1, {'id': 6, 'symbol': 'C'}),\n",
       " (2, {'id': 6, 'symbol': 'C'}),\n",
       " (3, {'id': 7, 'symbol': 'N'}),\n",
       " (4, {'id': 6, 'symbol': 'C'}),\n",
       " (5, {'id': 6, 'symbol': 'C'}),\n",
       " (6, {'id': 6, 'symbol': 'C'}),\n",
       " (7, {'id': 6, 'symbol': 'C'}),\n",
       " (8, {'id': 6, 'symbol': 'C'}),\n",
       " (9, {'id': 6, 'symbol': 'C'}),\n",
       " (10, {'id': 6, 'symbol': 'C'}),\n",
       " (11, {'id': 6, 'symbol': 'C'}),\n",
       " (12, {'id': 6, 'symbol': 'C'}),\n",
       " (13, {'id': 8, 'symbol': 'O'}),\n",
       " (14, {'id': 6, 'symbol': 'C'}),\n",
       " (15, {'id': 6, 'symbol': 'C'}),\n",
       " (16, {'id': 17, 'symbol': 'Cl'})]"
      ]
     },
     "execution_count": 6,
     "metadata": {},
     "output_type": "execute_result"
    }
   ],
   "source": [
    "nodes = [(i, {'id': a.GetAtomicNum(), 'symbol': str(a.GetSymbol())}) for i, a in enumerate(mol.GetAtoms())]\n",
    "edges = [(b.GetBeginAtomIdx(), b.GetEndAtomIdx(), {'bond_type': str(b.GetBondType())}) for b in mol.GetBonds()]\n",
    "nodes"
   ]
  },
  {
   "cell_type": "code",
   "execution_count": 7,
   "metadata": {},
   "outputs": [
    {
     "data": {
      "text/plain": [
       "[(0, 1, {'bond_type': 'SINGLE'}),\n",
       " (1, 2, {'bond_type': 'SINGLE'}),\n",
       " (2, 3, {'bond_type': 'SINGLE'}),\n",
       " (3, 4, {'bond_type': 'SINGLE'}),\n",
       " (4, 5, {'bond_type': 'SINGLE'}),\n",
       " (5, 6, {'bond_type': 'SINGLE'}),\n",
       " (6, 7, {'bond_type': 'SINGLE'}),\n",
       " (7, 8, {'bond_type': 'SINGLE'}),\n",
       " (8, 9, {'bond_type': 'AROMATIC'}),\n",
       " (9, 10, {'bond_type': 'AROMATIC'}),\n",
       " (10, 11, {'bond_type': 'AROMATIC'}),\n",
       " (11, 12, {'bond_type': 'AROMATIC'}),\n",
       " (12, 13, {'bond_type': 'SINGLE'}),\n",
       " (12, 14, {'bond_type': 'AROMATIC'}),\n",
       " (7, 15, {'bond_type': 'SINGLE'}),\n",
       " (15, 3, {'bond_type': 'SINGLE'}),\n",
       " (14, 8, {'bond_type': 'AROMATIC'})]"
      ]
     },
     "execution_count": 7,
     "metadata": {},
     "output_type": "execute_result"
    }
   ],
   "source": [
    "edges"
   ]
  },
  {
   "cell_type": "code",
   "execution_count": 20,
   "metadata": {},
   "outputs": [],
   "source": [
    "g = nx.Graph()\n",
    "g.add_nodes_from(nodes)\n",
    "g.add_edges_from(edges)"
   ]
  },
  {
   "cell_type": "code",
   "execution_count": null,
   "metadata": {},
   "outputs": [],
   "source": []
  },
  {
   "cell_type": "code",
   "execution_count": 21,
   "metadata": {},
   "outputs": [],
   "source": [
    "if not nx.is_connected(g):\n",
    "    sg = [c for c in sorted(nx.connected_components(g), key=len, reverse=True)]\n",
    "    sg = sg[1:]\n",
    "    for si in sg:\n",
    "        g.remove_nodes_from(si)\n",
    "    g = nx.convert_node_labels_to_integers(g)"
   ]
  },
  {
   "cell_type": "code",
   "execution_count": 38,
   "metadata": {},
   "outputs": [
    {
     "data": {
      "text/plain": [
       "[6, 6, 6, 7, 6, 6, 6, 6, 6, 6, 6, 6, 6, 8, 6, 6]"
      ]
     },
     "execution_count": 38,
     "metadata": {},
     "output_type": "execute_result"
    }
   ],
   "source": [
    "[g.nodes[i]['id'] for i in g]"
   ]
  },
  {
   "cell_type": "code",
   "execution_count": 54,
   "metadata": {
    "scrolled": true
   },
   "outputs": [
    {
     "data": {
      "text/plain": [
       "(['SINGLE',\n",
       "  'SINGLE',\n",
       "  'SINGLE',\n",
       "  'SINGLE',\n",
       "  'SINGLE',\n",
       "  'SINGLE',\n",
       "  'SINGLE',\n",
       "  'SINGLE',\n",
       "  'SINGLE',\n",
       "  'SINGLE',\n",
       "  'SINGLE',\n",
       "  'SINGLE',\n",
       "  'SINGLE',\n",
       "  'SINGLE',\n",
       "  'SINGLE',\n",
       "  'SINGLE',\n",
       "  'SINGLE',\n",
       "  'SINGLE',\n",
       "  'AROMATIC',\n",
       "  'AROMATIC',\n",
       "  'AROMATIC',\n",
       "  'AROMATIC',\n",
       "  'AROMATIC',\n",
       "  'AROMATIC',\n",
       "  'AROMATIC',\n",
       "  'AROMATIC',\n",
       "  'AROMATIC',\n",
       "  'SINGLE',\n",
       "  'AROMATIC',\n",
       "  'SINGLE',\n",
       "  'AROMATIC',\n",
       "  'AROMATIC',\n",
       "  'SINGLE',\n",
       "  'SINGLE'],\n",
       " [(0, 1),\n",
       "  (1, 0),\n",
       "  (1, 2),\n",
       "  (2, 1),\n",
       "  (2, 3),\n",
       "  (3, 2),\n",
       "  (3, 4),\n",
       "  (3, 15),\n",
       "  (4, 3),\n",
       "  (4, 5),\n",
       "  (5, 4),\n",
       "  (5, 6),\n",
       "  (6, 5),\n",
       "  (6, 7),\n",
       "  (7, 6),\n",
       "  (7, 8),\n",
       "  (7, 15),\n",
       "  (8, 7),\n",
       "  (8, 9),\n",
       "  (8, 14),\n",
       "  (9, 8),\n",
       "  (9, 10),\n",
       "  (10, 9),\n",
       "  (10, 11),\n",
       "  (11, 10),\n",
       "  (11, 12),\n",
       "  (12, 11),\n",
       "  (12, 13),\n",
       "  (12, 14),\n",
       "  (13, 12),\n",
       "  (14, 8),\n",
       "  (14, 12),\n",
       "  (15, 3),\n",
       "  (15, 7)])"
      ]
     },
     "execution_count": 54,
     "metadata": {},
     "output_type": "execute_result"
    }
   ],
   "source": [
    "edges_ = {(i, j, g.edges[i, j]['bond_type']) for i, j in g.edges}\n",
    "edges_.update({(j, i, g.edges[i, j]['bond_type']) for i, j in g.edges})\n",
    "edges_ = sorted(list(edges_), key=lambda x: x[:-1])\n",
    "edges_attr = [v[-1] for v in edges_]\n",
    "edges_ = [v[:-1] for v in edges_]\n",
    "edges_attr, edges_"
   ]
  },
  {
   "cell_type": "code",
   "execution_count": null,
   "metadata": {},
   "outputs": [],
   "source": []
  },
  {
   "cell_type": "code",
   "execution_count": 24,
   "metadata": {},
   "outputs": [
    {
     "name": "stdout",
     "output_type": "stream",
     "text": [
      "(0, 1)\n",
      "(1, 2)\n",
      "(2, 3)\n",
      "(3, 4)\n",
      "(3, 15)\n",
      "(4, 5)\n",
      "(5, 6)\n",
      "(6, 7)\n",
      "(7, 8)\n",
      "(7, 15)\n",
      "(8, 9)\n",
      "(8, 14)\n",
      "(9, 10)\n",
      "(10, 11)\n",
      "(11, 12)\n",
      "(12, 13)\n",
      "(12, 14)\n"
     ]
    }
   ],
   "source": [
    "for ij in g.edges:\n",
    "    print(ij)"
   ]
  },
  {
   "cell_type": "code",
   "execution_count": 19,
   "metadata": {},
   "outputs": [
    {
     "data": {
      "text/plain": [
       "{'bond_type': 'AROMATIC'}"
      ]
     },
     "execution_count": 19,
     "metadata": {},
     "output_type": "execute_result"
    }
   ],
   "source": [
    "g.edges[ij]"
   ]
  },
  {
   "cell_type": "code",
   "execution_count": 80,
   "metadata": {},
   "outputs": [
    {
     "data": {
      "text/plain": [
       "(12, 14)"
      ]
     },
     "execution_count": 80,
     "metadata": {},
     "output_type": "execute_result"
    }
   ],
   "source": [
    "ij"
   ]
  },
  {
   "cell_type": "code",
   "execution_count": 23,
   "metadata": {
    "scrolled": true
   },
   "outputs": [
    {
     "name": "stdout",
     "output_type": "stream",
     "text": [
      "C 6\n",
      "C 6\n",
      "C 6\n",
      "N 7\n",
      "C 6\n",
      "C 6\n",
      "C 6\n",
      "C 6\n",
      "C 6\n",
      "C 6\n",
      "C 6\n",
      "C 6\n",
      "C 6\n",
      "O 8\n",
      "C 6\n",
      "C 6\n",
      "Cl 17\n"
     ]
    }
   ],
   "source": [
    "for a in mol.GetAtoms():\n",
    "    print(a.GetSymbol(), a.GetAtomicNum())"
   ]
  },
  {
   "cell_type": "code",
   "execution_count": 22,
   "metadata": {
    "scrolled": true
   },
   "outputs": [
    {
     "data": {
      "text/plain": [
       "['ClearProp',\n",
       " 'DescribeQuery',\n",
       " 'GetAtomMapNum',\n",
       " 'GetAtomicNum',\n",
       " 'GetBonds',\n",
       " 'GetBoolProp',\n",
       " 'GetChiralTag',\n",
       " 'GetDegree',\n",
       " 'GetDoubleProp',\n",
       " 'GetExplicitBitVectProp',\n",
       " 'GetExplicitValence',\n",
       " 'GetFormalCharge',\n",
       " 'GetHybridization',\n",
       " 'GetIdx',\n",
       " 'GetImplicitValence',\n",
       " 'GetIntProp',\n",
       " 'GetIsAromatic',\n",
       " 'GetIsotope',\n",
       " 'GetMass',\n",
       " 'GetMonomerInfo',\n",
       " 'GetNeighbors',\n",
       " 'GetNoImplicit',\n",
       " 'GetNumExplicitHs',\n",
       " 'GetNumImplicitHs',\n",
       " 'GetNumRadicalElectrons',\n",
       " 'GetOwningMol',\n",
       " 'GetPDBResidueInfo',\n",
       " 'GetProp',\n",
       " 'GetPropNames',\n",
       " 'GetPropsAsDict',\n",
       " 'GetSmarts',\n",
       " 'GetSymbol',\n",
       " 'GetTotalDegree',\n",
       " 'GetTotalNumHs',\n",
       " 'GetTotalValence',\n",
       " 'GetUnsignedProp',\n",
       " 'HasOwningMol',\n",
       " 'HasProp',\n",
       " 'HasQuery',\n",
       " 'InvertChirality',\n",
       " 'IsInRing',\n",
       " 'IsInRingSize',\n",
       " 'Match',\n",
       " 'NeedsUpdatePropertyCache',\n",
       " 'SetAtomMapNum',\n",
       " 'SetAtomicNum',\n",
       " 'SetBoolProp',\n",
       " 'SetChiralTag',\n",
       " 'SetDoubleProp',\n",
       " 'SetExplicitBitVectProp',\n",
       " 'SetFormalCharge',\n",
       " 'SetHybridization',\n",
       " 'SetIntProp',\n",
       " 'SetIsAromatic',\n",
       " 'SetIsotope',\n",
       " 'SetMonomerInfo',\n",
       " 'SetNoImplicit',\n",
       " 'SetNumExplicitHs',\n",
       " 'SetNumRadicalElectrons',\n",
       " 'SetProp',\n",
       " 'SetUnsignedProp',\n",
       " 'UpdatePropertyCache',\n",
       " '__class__',\n",
       " '__copy__',\n",
       " '__delattr__',\n",
       " '__dict__',\n",
       " '__dir__',\n",
       " '__doc__',\n",
       " '__eq__',\n",
       " '__format__',\n",
       " '__ge__',\n",
       " '__getattribute__',\n",
       " '__gt__',\n",
       " '__hash__',\n",
       " '__init__',\n",
       " '__init_subclass__',\n",
       " '__instance_size__',\n",
       " '__le__',\n",
       " '__lt__',\n",
       " '__module__',\n",
       " '__ne__',\n",
       " '__new__',\n",
       " '__reduce__',\n",
       " '__reduce_ex__',\n",
       " '__repr__',\n",
       " '__setattr__',\n",
       " '__sizeof__',\n",
       " '__str__',\n",
       " '__subclasshook__',\n",
       " '__weakref__']"
      ]
     },
     "execution_count": 22,
     "metadata": {},
     "output_type": "execute_result"
    }
   ],
   "source": [
    "dir(a)"
   ]
  },
  {
   "cell_type": "code",
   "execution_count": 18,
   "metadata": {},
   "outputs": [
    {
     "name": "stdout",
     "output_type": "stream",
     "text": [
      "0 1 SINGLE\n",
      "1 2 SINGLE\n",
      "2 3 SINGLE\n",
      "3 4 SINGLE\n",
      "4 5 SINGLE\n",
      "5 6 SINGLE\n",
      "6 7 SINGLE\n",
      "7 8 SINGLE\n",
      "8 9 AROMATIC\n",
      "9 10 AROMATIC\n",
      "10 11 AROMATIC\n",
      "11 12 AROMATIC\n",
      "12 13 SINGLE\n",
      "12 14 AROMATIC\n",
      "7 15 SINGLE\n",
      "15 3 SINGLE\n",
      "14 8 AROMATIC\n"
     ]
    }
   ],
   "source": [
    "for b in mol.GetBonds():\n",
    "    print(b.GetBeginAtomIdx(), b.GetEndAtomIdx(), b.GetBondType())"
   ]
  },
  {
   "cell_type": "code",
   "execution_count": 19,
   "metadata": {},
   "outputs": [
    {
     "data": {
      "text/plain": [
       "(<BondType.AROMATIC: 4>, <BondType.AROMATIC: 4>)"
      ]
     },
     "execution_count": 19,
     "metadata": {},
     "output_type": "execute_result"
    }
   ],
   "source": [
    "BondType[str(b.GetBondType())], BondType(4)"
   ]
  },
  {
   "cell_type": "code",
   "execution_count": null,
   "metadata": {},
   "outputs": [],
   "source": []
  }
 ],
 "metadata": {
  "kernelspec": {
   "display_name": "hackathon-lap",
   "language": "python",
   "name": "hackathon-lap"
  },
  "language_info": {
   "codemirror_mode": {
    "name": "ipython",
    "version": 3
   },
   "file_extension": ".py",
   "mimetype": "text/x-python",
   "name": "python",
   "nbconvert_exporter": "python",
   "pygments_lexer": "ipython3",
   "version": "3.8.12"
  }
 },
 "nbformat": 4,
 "nbformat_minor": 4
}
