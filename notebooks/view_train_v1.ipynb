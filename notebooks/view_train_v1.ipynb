{
 "cells": [
  {
   "cell_type": "markdown",
   "metadata": {},
   "source": [
    "# Пробуем работать с RDKIT"
   ]
  },
  {
   "cell_type": "code",
   "execution_count": 1,
   "metadata": {},
   "outputs": [],
   "source": [
    "import os\n",
    "import pandas as pd\n",
    "from tqdm.auto import tqdm\n",
    "from rdkit import Chem\n",
    "from rdkit.Chem import Draw\n",
    "import networkx as nx\n",
    "from collections import defaultdict\n",
    "from hack_lap.utils import BondType"
   ]
  },
  {
   "cell_type": "code",
   "execution_count": 2,
   "metadata": {},
   "outputs": [],
   "source": [
    "import matplotlib\n",
    "# matplotlib.use('Qt5Agg')\n",
    "# %matplotlib qt5\n",
    "%matplotlib inline\n",
    "import matplotlib.pyplot as plt"
   ]
  },
  {
   "cell_type": "code",
   "execution_count": 3,
   "metadata": {},
   "outputs": [
    {
     "data": {
      "text/html": [
       "<div>\n",
       "<style scoped>\n",
       "    .dataframe tbody tr th:only-of-type {\n",
       "        vertical-align: middle;\n",
       "    }\n",
       "\n",
       "    .dataframe tbody tr th {\n",
       "        vertical-align: top;\n",
       "    }\n",
       "\n",
       "    .dataframe thead th {\n",
       "        text-align: right;\n",
       "    }\n",
       "</style>\n",
       "<table border=\"1\" class=\"dataframe\">\n",
       "  <thead>\n",
       "    <tr style=\"text-align: right;\">\n",
       "      <th></th>\n",
       "      <th>Smiles</th>\n",
       "      <th>Active</th>\n",
       "    </tr>\n",
       "  </thead>\n",
       "  <tbody>\n",
       "    <tr>\n",
       "      <th>0</th>\n",
       "      <td>COc1ccc2[nH]cc(CCN)c2c1</td>\n",
       "      <td>False</td>\n",
       "    </tr>\n",
       "    <tr>\n",
       "      <th>1</th>\n",
       "      <td>CCCN1CCC[C@H](c2cccc(O)c2)C1.Cl</td>\n",
       "      <td>False</td>\n",
       "    </tr>\n",
       "    <tr>\n",
       "      <th>2</th>\n",
       "      <td>O=C(NO)c1cnc(N2CCN(S(=O)(=O)c3ccc4ccccc4c3)CC2...</td>\n",
       "      <td>False</td>\n",
       "    </tr>\n",
       "    <tr>\n",
       "      <th>3</th>\n",
       "      <td>Nc1cccc(CNC(=O)c2ccc(Oc3ccc(OCc4cccc(F)c4)cc3)...</td>\n",
       "      <td>False</td>\n",
       "    </tr>\n",
       "    <tr>\n",
       "      <th>4</th>\n",
       "      <td>Fc1ccccc1CNCc1ccc(-c2ccnc3[nH]ccc23)cc1</td>\n",
       "      <td>False</td>\n",
       "    </tr>\n",
       "    <tr>\n",
       "      <th>...</th>\n",
       "      <td>...</td>\n",
       "      <td>...</td>\n",
       "    </tr>\n",
       "    <tr>\n",
       "      <th>5552</th>\n",
       "      <td>O=C(Oc1ccc([N+](=O)[O-])cc1)N1CCC(C(O)(c2ccc3c...</td>\n",
       "      <td>False</td>\n",
       "    </tr>\n",
       "    <tr>\n",
       "      <th>5553</th>\n",
       "      <td>Nc1nonc1/C(=N/O)Nc1ccc(F)c(Br)c1</td>\n",
       "      <td>False</td>\n",
       "    </tr>\n",
       "    <tr>\n",
       "      <th>5554</th>\n",
       "      <td>Oc1cccc2cccnc12</td>\n",
       "      <td>False</td>\n",
       "    </tr>\n",
       "    <tr>\n",
       "      <th>5555</th>\n",
       "      <td>OC(c1ccc(-c2ccc(CN3CCN(Cc4ccncc4)CC3)cc2)c(F)c...</td>\n",
       "      <td>False</td>\n",
       "    </tr>\n",
       "    <tr>\n",
       "      <th>5556</th>\n",
       "      <td>CCCCNc1ccc(C(=O)OCCN(C)C)cc1.Cl</td>\n",
       "      <td>False</td>\n",
       "    </tr>\n",
       "  </tbody>\n",
       "</table>\n",
       "<p>5557 rows × 2 columns</p>\n",
       "</div>"
      ],
      "text/plain": [
       "                                                 Smiles  Active\n",
       "0                               COc1ccc2[nH]cc(CCN)c2c1   False\n",
       "1                       CCCN1CCC[C@H](c2cccc(O)c2)C1.Cl   False\n",
       "2     O=C(NO)c1cnc(N2CCN(S(=O)(=O)c3ccc4ccccc4c3)CC2...   False\n",
       "3     Nc1cccc(CNC(=O)c2ccc(Oc3ccc(OCc4cccc(F)c4)cc3)...   False\n",
       "4               Fc1ccccc1CNCc1ccc(-c2ccnc3[nH]ccc23)cc1   False\n",
       "...                                                 ...     ...\n",
       "5552  O=C(Oc1ccc([N+](=O)[O-])cc1)N1CCC(C(O)(c2ccc3c...   False\n",
       "5553                   Nc1nonc1/C(=N/O)Nc1ccc(F)c(Br)c1   False\n",
       "5554                                    Oc1cccc2cccnc12   False\n",
       "5555  OC(c1ccc(-c2ccc(CN3CCN(Cc4ccncc4)CC3)cc2)c(F)c...   False\n",
       "5556                    CCCCNc1ccc(C(=O)OCCN(C)C)cc1.Cl   False\n",
       "\n",
       "[5557 rows x 2 columns]"
      ]
     },
     "execution_count": 3,
     "metadata": {},
     "output_type": "execute_result"
    }
   ],
   "source": [
    "filename = os.path.join('..', 'data', 'train.csv')\n",
    "df = pd.read_csv(filename)\n",
    "df = df.loc[:, ['Smiles', 'Active']].astype({'Active': bool})\n",
    "# df.drop_duplicates(subset=['Smiles'], inplace=True)\n",
    "df"
   ]
  },
  {
   "cell_type": "code",
   "execution_count": 4,
   "metadata": {},
   "outputs": [
    {
     "data": {
      "text/plain": [
       "False    5351\n",
       "True      206\n",
       "Name: Active, dtype: int64"
      ]
     },
     "execution_count": 4,
     "metadata": {},
     "output_type": "execute_result"
    }
   ],
   "source": [
    "df['Active'].value_counts()"
   ]
  },
  {
   "cell_type": "code",
   "execution_count": 27,
   "metadata": {},
   "outputs": [
    {
     "data": {
      "text/plain": [
       "[('C', 5552),\n",
       " ('O', 5052),\n",
       " ('N', 4759),\n",
       " ('S', 1322),\n",
       " ('Cl', 1199),\n",
       " ('F', 854),\n",
       " ('Br', 172),\n",
       " ('P', 107),\n",
       " ('Na', 80),\n",
       " ('I', 76),\n",
       " ('B', 13),\n",
       " ('Ca', 9),\n",
       " ('K', 8),\n",
       " ('Zn', 5),\n",
       " ('Se', 3),\n",
       " ('As', 2),\n",
       " ('Si', 2),\n",
       " ('Mg', 2),\n",
       " ('Li', 2),\n",
       " ('H', 1),\n",
       " ('Sr', 1),\n",
       " ('Ag', 1),\n",
       " ('Al', 1)]"
      ]
     },
     "execution_count": 27,
     "metadata": {},
     "output_type": "execute_result"
    }
   ],
   "source": [
    "count_atoms = defaultdict(list)\n",
    "for s in df['Smiles'].tolist():\n",
    "    mol = Chem.MolFromSmiles(s)\n",
    "    na = {a.GetSymbol() for a in mol.GetAtoms()}\n",
    "    for nai in na:\n",
    "        count_atoms[nai] += [s]\n",
    "sorted({k: len(v) for k, v in count_atoms.items()}.items(), key=lambda x: -x[1])"
   ]
  },
  {
   "cell_type": "code",
   "execution_count": 21,
   "metadata": {},
   "outputs": [
    {
     "data": {
      "image/png": "[encoded data removed]",
      "text/plain": [
       "<rdkit.Chem.rdchem.Mol at 0x7fa765b57b80>"
      ]
     },
     "execution_count": 21,
     "metadata": {},
     "output_type": "execute_result"
    }
   ],
   "source": [
    "name = 'Zn'\n",
    "s = count_atoms[name][0]\n",
    "mol = Chem.MolFromSmiles(s)\n",
    "mol"
   ]
  },
  {
   "cell_type": "code",
   "execution_count": 22,
   "metadata": {},
   "outputs": [
    {
     "name": "stdout",
     "output_type": "stream",
     "text": [
      "CCCN1CCC[C@H](c2cccc(O)c2)C1.Cl\n",
      "False\n"
     ]
    },
    {
     "data": {
      "image/png": "[encoded data removed]",
      "text/plain": [
       "<PIL.PngImagePlugin.PngImageFile image mode=RGB size=300x300 at 0x7FA765B01FA0>"
      ]
     },
     "execution_count": 22,
     "metadata": {},
     "output_type": "execute_result"
    }
   ],
   "source": [
    "i = 1\n",
    "s = df.loc[i, 'Smiles']\n",
    "print(s)\n",
    "print(df.loc[i, 'Active'])\n",
    "\n",
    "mol = Chem.MolFromSmiles(s)\n",
    "Draw.MolToImage(mol)"
   ]
  },
  {
   "cell_type": "code",
   "execution_count": 26,
   "metadata": {},
   "outputs": [
    {
     "name": "stdout",
     "output_type": "stream",
     "text": [
      "[1, 3, 5, 6, 7, 8, 9, 11, 12, 13, 14, 15, 16, 17, 19, 20, 30, 33, 34, 35, 38, 47, 53]\n"
     ]
    }
   ],
   "source": [
    "used_atoms = set()\n",
    "for s in df['Smiles'].tolist():\n",
    "    mol = Chem.MolFromSmiles(s)\n",
    "    used_atoms.update([a.GetAtomicNum() for a in mol.GetAtoms()])\n",
    "print(sorted(used_atoms))"
   ]
  },
  {
   "cell_type": "code",
   "execution_count": 6,
   "metadata": {},
   "outputs": [
    {
     "data": {
      "text/plain": [
       "[(0, {'id': 6, 'symbol': 'C'}),\n",
       " (1, {'id': 6, 'symbol': 'C'}),\n",
       " (2, {'id': 6, 'symbol': 'C'}),\n",
       " (3, {'id': 7, 'symbol': 'N'}),\n",
       " (4, {'id': 6, 'symbol': 'C'}),\n",
       " (5, {'id': 6, 'symbol': 'C'}),\n",
       " (6, {'id': 6, 'symbol': 'C'}),\n",
       " (7, {'id': 6, 'symbol': 'C'}),\n",
       " (8, {'id': 6, 'symbol': 'C'}),\n",
       " (9, {'id': 6, 'symbol': 'C'}),\n",
       " (10, {'id': 6, 'symbol': 'C'}),\n",
       " (11, {'id': 6, 'symbol': 'C'}),\n",
       " (12, {'id': 6, 'symbol': 'C'}),\n",
       " (13, {'id': 8, 'symbol': 'O'}),\n",
       " (14, {'id': 6, 'symbol': 'C'}),\n",
       " (15, {'id': 6, 'symbol': 'C'}),\n",
       " (16, {'id': 17, 'symbol': 'Cl'})]"
      ]
     },
     "execution_count": 6,
     "metadata": {},
     "output_type": "execute_result"
    }
   ],
   "source": [
    "nodes = [(i, {'id': a.GetAtomicNum(), 'symbol': str(a.GetSymbol())}) for i, a in enumerate(mol.GetAtoms())]\n",
    "edges = [(b.GetBeginAtomIdx(), b.GetEndAtomIdx(), {'bond_type': str(b.GetBondType())}) for b in mol.GetBonds()]\n",
    "nodes"
   ]
  },
  {
   "cell_type": "code",
   "execution_count": 7,
   "metadata": {},
   "outputs": [
    {
     "data": {
      "text/plain": [
       "[(0, 1, {'bond_type': 'SINGLE'}),\n",
       " (1, 2, {'bond_type': 'SINGLE'}),\n",
       " (2, 3, {'bond_type': 'SINGLE'}),\n",
       " (3, 4, {'bond_type': 'SINGLE'}),\n",
       " (4, 5, {'bond_type': 'SINGLE'}),\n",
       " (5, 6, {'bond_type': 'SINGLE'}),\n",
       " (6, 7, {'bond_type': 'SINGLE'}),\n",
       " (7, 8, {'bond_type': 'SINGLE'}),\n",
       " (8, 9, {'bond_type': 'AROMATIC'}),\n",
       " (9, 10, {'bond_type': 'AROMATIC'}),\n",
       " (10, 11, {'bond_type': 'AROMATIC'}),\n",
       " (11, 12, {'bond_type': 'AROMATIC'}),\n",
       " (12, 13, {'bond_type': 'SINGLE'}),\n",
       " (12, 14, {'bond_type': 'AROMATIC'}),\n",
       " (7, 15, {'bond_type': 'SINGLE'}),\n",
       " (15, 3, {'bond_type': 'SINGLE'}),\n",
       " (14, 8, {'bond_type': 'AROMATIC'})]"
      ]
     },
     "execution_count": 7,
     "metadata": {},
     "output_type": "execute_result"
    }
   ],
   "source": [
    "edges"
   ]
  },
  {
   "cell_type": "code",
   "execution_count": 20,
   "metadata": {},
   "outputs": [],
   "source": [
    "g = nx.Graph()\n",
    "g.add_nodes_from(nodes)\n",
    "g.add_edges_from(edges)"
   ]
  },
  {
   "cell_type": "code",
   "execution_count": null,
   "metadata": {},
   "outputs": [],
   "source": []
  },
  {
   "cell_type": "code",
   "execution_count": 21,
   "metadata": {},
   "outputs": [],
   "source": [
    "if not nx.is_connected(g):\n",
    "    sg = [c for c in sorted(nx.connected_components(g), key=len, reverse=True)]\n",
    "    sg = sg[1:]\n",
    "    for si in sg:\n",
    "        g.remove_nodes_from(si)\n",
    "    g = nx.convert_node_labels_to_integers(g)"
   ]
  },
  {
   "cell_type": "code",
   "execution_count": 38,
   "metadata": {},
   "outputs": [
    {
     "data": {
      "text/plain": [
       "[6, 6, 6, 7, 6, 6, 6, 6, 6, 6, 6, 6, 6, 8, 6, 6]"
      ]
     },
     "execution_count": 38,
     "metadata": {},
     "output_type": "execute_result"
    }
   ],
   "source": [
    "[g.nodes[i]['id'] for i in g]"
   ]
  },
  {
   "cell_type": "code",
   "execution_count": 54,
   "metadata": {
    "scrolled": true
   },
   "outputs": [
    {
     "data": {
      "text/plain": [
       "(['SINGLE',\n",
       "  'SINGLE',\n",
       "  'SINGLE',\n",
       "  'SINGLE',\n",
       "  'SINGLE',\n",
       "  'SINGLE',\n",
       "  'SINGLE',\n",
       "  'SINGLE',\n",
       "  'SINGLE',\n",
       "  'SINGLE',\n",
       "  'SINGLE',\n",
       "  'SINGLE',\n",
       "  'SINGLE',\n",
       "  'SINGLE',\n",
       "  'SINGLE',\n",
       "  'SINGLE',\n",
       "  'SINGLE',\n",
       "  'SINGLE',\n",
       "  'AROMATIC',\n",
       "  'AROMATIC',\n",
       "  'AROMATIC',\n",
       "  'AROMATIC',\n",
       "  'AROMATIC',\n",
       "  'AROMATIC',\n",
       "  'AROMATIC',\n",
       "  'AROMATIC',\n",
       "  'AROMATIC',\n",
       "  'SINGLE',\n",
       "  'AROMATIC',\n",
       "  'SINGLE',\n",
       "  'AROMATIC',\n",
       "  'AROMATIC',\n",
       "  'SINGLE',\n",
       "  'SINGLE'],\n",
       " [(0, 1),\n",
       "  (1, 0),\n",
       "  (1, 2),\n",
       "  (2, 1),\n",
       "  (2, 3),\n",
       "  (3, 2),\n",
       "  (3, 4),\n",
       "  (3, 15),\n",
       "  (4, 3),\n",
       "  (4, 5),\n",
       "  (5, 4),\n",
       "  (5, 6),\n",
       "  (6, 5),\n",
       "  (6, 7),\n",
       "  (7, 6),\n",
       "  (7, 8),\n",
       "  (7, 15),\n",
       "  (8, 7),\n",
       "  (8, 9),\n",
       "  (8, 14),\n",
       "  (9, 8),\n",
       "  (9, 10),\n",
       "  (10, 9),\n",
       "  (10, 11),\n",
       "  (11, 10),\n",
       "  (11, 12),\n",
       "  (12, 11),\n",
       "  (12, 13),\n",
       "  (12, 14),\n",
       "  (13, 12),\n",
       "  (14, 8),\n",
       "  (14, 12),\n",
       "  (15, 3),\n",
       "  (15, 7)])"
      ]
     },
     "execution_count": 54,
     "metadata": {},
     "output_type": "execute_result"
    }
   ],
   "source": [
    "edges_ = {(i, j, g.edges[i, j]['bond_type']) for i, j in g.edges}\n",
    "edges_.update({(j, i, g.edges[i, j]['bond_type']) for i, j in g.edges})\n",
    "edges_ = sorted(list(edges_), key=lambda x: x[:-1])\n",
    "edges_attr = [v[-1] for v in edges_]\n",
    "edges_ = [v[:-1] for v in edges_]\n",
    "edges_attr, edges_"
   ]
  },
  {
   "cell_type": "code",
   "execution_count": null,
   "metadata": {},
   "outputs": [],
   "source": []
  },
  {
   "cell_type": "code",
   "execution_count": 24,
   "metadata": {},
   "outputs": [
    {
     "name": "stdout",
     "output_type": "stream",
     "text": [
      "(0, 1)\n",
      "(1, 2)\n",
      "(2, 3)\n",
      "(3, 4)\n",
      "(3, 15)\n",
      "(4, 5)\n",
      "(5, 6)\n",
      "(6, 7)\n",
      "(7, 8)\n",
      "(7, 15)\n",
      "(8, 9)\n",
      "(8, 14)\n",
      "(9, 10)\n",
      "(10, 11)\n",
      "(11, 12)\n",
      "(12, 13)\n",
      "(12, 14)\n"
     ]
    }
   ],
   "source": [
    "for ij in g.edges:\n",
    "    print(ij)"
   ]
  },
  {
   "cell_type": "code",
   "execution_count": 19,
   "metadata": {},
   "outputs": [
    {
     "data": {
      "text/plain": [
       "{'bond_type': 'AROMATIC'}"
      ]
     },
     "execution_count": 19,
     "metadata": {},
     "output_type": "execute_result"
    }
   ],
   "source": [
    "g.edges[ij]"
   ]
  },
  {
   "cell_type": "code",
   "execution_count": 80,
   "metadata": {},
   "outputs": [
    {
     "data": {
      "text/plain": [
       "(12, 14)"
      ]
     },
     "execution_count": 80,
     "metadata": {},
     "output_type": "execute_result"
    }
   ],
   "source": [
    "ij"
   ]
  },
  {
   "cell_type": "code",
   "execution_count": 23,
   "metadata": {
    "scrolled": true
   },
   "outputs": [
    {
     "name": "stdout",
     "output_type": "stream",
     "text": [
      "C 6\n",
      "C 6\n",
      "C 6\n",
      "N 7\n",
      "C 6\n",
      "C 6\n",
      "C 6\n",
      "C 6\n",
      "C 6\n",
      "C 6\n",
      "C 6\n",
      "C 6\n",
      "C 6\n",
      "O 8\n",
      "C 6\n",
      "C 6\n",
      "Cl 17\n"
     ]
    }
   ],
   "source": [
    "for a in mol.GetAtoms():\n",
    "    print(a.GetSymbol(), a.GetAtomicNum())"
   ]
  },
  {
   "cell_type": "code",
   "execution_count": 22,
   "metadata": {
    "scrolled": true
   },
   "outputs": [
    {
     "data": {
      "text/plain": [
       "['ClearProp',\n",
       " 'DescribeQuery',\n",
       " 'GetAtomMapNum',\n",
       " 'GetAtomicNum',\n",
       " 'GetBonds',\n",
       " 'GetBoolProp',\n",
       " 'GetChiralTag',\n",
       " 'GetDegree',\n",
       " 'GetDoubleProp',\n",
       " 'GetExplicitBitVectProp',\n",
       " 'GetExplicitValence',\n",
       " 'GetFormalCharge',\n",
       " 'GetHybridization',\n",
       " 'GetIdx',\n",
       " 'GetImplicitValence',\n",
       " 'GetIntProp',\n",
       " 'GetIsAromatic',\n",
       " 'GetIsotope',\n",
       " 'GetMass',\n",
       " 'GetMonomerInfo',\n",
       " 'GetNeighbors',\n",
       " 'GetNoImplicit',\n",
       " 'GetNumExplicitHs',\n",
       " 'GetNumImplicitHs',\n",
       " 'GetNumRadicalElectrons',\n",
       " 'GetOwningMol',\n",
       " 'GetPDBResidueInfo',\n",
       " 'GetProp',\n",
       " 'GetPropNames',\n",
       " 'GetPropsAsDict',\n",
       " 'GetSmarts',\n",
       " 'GetSymbol',\n",
       " 'GetTotalDegree',\n",
       " 'GetTotalNumHs',\n",
       " 'GetTotalValence',\n",
       " 'GetUnsignedProp',\n",
       " 'HasOwningMol',\n",
       " 'HasProp',\n",
       " 'HasQuery',\n",
       " 'InvertChirality',\n",
       " 'IsInRing',\n",
       " 'IsInRingSize',\n",
       " 'Match',\n",
       " 'NeedsUpdatePropertyCache',\n",
       " 'SetAtomMapNum',\n",
       " 'SetAtomicNum',\n",
       " 'SetBoolProp',\n",
       " 'SetChiralTag',\n",
       " 'SetDoubleProp',\n",
       " 'SetExplicitBitVectProp',\n",
       " 'SetFormalCharge',\n",
       " 'SetHybridization',\n",
       " 'SetIntProp',\n",
       " 'SetIsAromatic',\n",
       " 'SetIsotope',\n",
       " 'SetMonomerInfo',\n",
       " 'SetNoImplicit',\n",
       " 'SetNumExplicitHs',\n",
       " 'SetNumRadicalElectrons',\n",
       " 'SetProp',\n",
       " 'SetUnsignedProp',\n",
       " 'UpdatePropertyCache',\n",
       " '__class__',\n",
       " '__copy__',\n",
       " '__delattr__',\n",
       " '__dict__',\n",
       " '__dir__',\n",
       " '__doc__',\n",
       " '__eq__',\n",
       " '__format__',\n",
       " '__ge__',\n",
       " '__getattribute__',\n",
       " '__gt__',\n",
       " '__hash__',\n",
       " '__init__',\n",
       " '__init_subclass__',\n",
       " '__instance_size__',\n",
       " '__le__',\n",
       " '__lt__',\n",
       " '__module__',\n",
       " '__ne__',\n",
       " '__new__',\n",
       " '__reduce__',\n",
       " '__reduce_ex__',\n",
       " '__repr__',\n",
       " '__setattr__',\n",
       " '__sizeof__',\n",
       " '__str__',\n",
       " '__subclasshook__',\n",
       " '__weakref__']"
      ]
     },
     "execution_count": 22,
     "metadata": {},
     "output_type": "execute_result"
    }
   ],
   "source": [
    "dir(a)"
   ]
  },
  {
   "cell_type": "code",
   "execution_count": 18,
   "metadata": {},
   "outputs": [
    {
     "name": "stdout",
     "output_type": "stream",
     "text": [
      "0 1 SINGLE\n",
      "1 2 SINGLE\n",
      "2 3 SINGLE\n",
      "3 4 SINGLE\n",
      "4 5 SINGLE\n",
      "5 6 SINGLE\n",
      "6 7 SINGLE\n",
      "7 8 SINGLE\n",
      "8 9 AROMATIC\n",
      "9 10 AROMATIC\n",
      "10 11 AROMATIC\n",
      "11 12 AROMATIC\n",
      "12 13 SINGLE\n",
      "12 14 AROMATIC\n",
      "7 15 SINGLE\n",
      "15 3 SINGLE\n",
      "14 8 AROMATIC\n"
     ]
    }
   ],
   "source": [
    "for b in mol.GetBonds():\n",
    "    print(b.GetBeginAtomIdx(), b.GetEndAtomIdx(), b.GetBondType())"
   ]
  },
  {
   "cell_type": "code",
   "execution_count": 19,
   "metadata": {},
   "outputs": [
    {
     "data": {
      "text/plain": [
       "(<BondType.AROMATIC: 4>, <BondType.AROMATIC: 4>)"
      ]
     },
     "execution_count": 19,
     "metadata": {},
     "output_type": "execute_result"
    }
   ],
   "source": [
    "BondType[str(b.GetBondType())], BondType(4)"
   ]
  },
  {
   "cell_type": "code",
   "execution_count": null,
   "metadata": {},
   "outputs": [],
   "source": []
  }
 ],
 "metadata": {
  "kernelspec": {
   "display_name": "hackathon: lap",
   "language": "python",
   "name": "hackathon-lap"
  },
  "language_info": {
   "codemirror_mode": {
    "name": "ipython",
    "version": 3
   },
   "file_extension": ".py",
   "mimetype": "text/x-python",
   "name": "python",
   "nbconvert_exporter": "python",
   "pygments_lexer": "ipython3",
   "version": "3.8.12"
  }
 },
 "nbformat": 4,
 "nbformat_minor": 4
}
