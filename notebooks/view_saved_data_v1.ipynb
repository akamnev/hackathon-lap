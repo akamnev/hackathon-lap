{
 "cells": [
  {
   "cell_type": "markdown",
   "id": "c11094bb",
   "metadata": {},
   "source": [
    "# Смотрим сохраненные данные"
   ]
  },
  {
   "cell_type": "code",
   "execution_count": 1,
   "id": "e68dcfb5",
   "metadata": {},
   "outputs": [],
   "source": [
    "import os\n",
    "import pickle"
   ]
  },
  {
   "cell_type": "code",
   "execution_count": 3,
   "id": "f6391bef",
   "metadata": {},
   "outputs": [],
   "source": [
    "filename = 'mdl-mdl-L4-H32-Pmean-NF-BF-seed-42-r-True-Nepoch-20.pkl'\n",
    "with open(os.path.join('..', 'data', 'model', filename), 'rb') as fp:\n",
    "    data = pickle.load(fp)"
   ]
  },
  {
   "cell_type": "code",
   "execution_count": 4,
   "id": "92322b4c",
   "metadata": {},
   "outputs": [
    {
     "data": {
      "text/plain": [
       "{'yt_dev': array([1., 1., 1., ..., 0., 0., 0.], dtype=float32),\n",
       " 'yp_dev': array([[0.6486824 , 0.6653401 , 0.6324703 , ..., 0.5939579 , 0.65038717,\n",
       "         0.6345959 ],\n",
       "        [0.6607788 , 0.7188052 , 0.76897246, ..., 0.68627673, 0.7944485 ,\n",
       "         0.6949172 ],\n",
       "        [0.43792096, 0.41081914, 0.40794528, ..., 0.39650437, 0.46681637,\n",
       "         0.39308357],\n",
       "        ...,\n",
       "        [0.43362293, 0.4550954 , 0.47743037, ..., 0.56625974, 0.470409  ,\n",
       "         0.42404133],\n",
       "        [0.45794004, 0.5170184 , 0.4454812 , ..., 0.39091346, 0.4722573 ,\n",
       "         0.4577947 ],\n",
       "        [0.28807554, 0.2567742 , 0.35152704, ..., 0.26829085, 0.3395696 ,\n",
       "         0.28926536]], dtype=float32),\n",
       " 'yp_test': array([[0.36912417, 0.3303577 , 0.26037884, ..., 0.31173366, 0.28000987,\n",
       "         0.32951024],\n",
       "        [0.4702024 , 0.37885714, 0.42359167, ..., 0.39770618, 0.44788593,\n",
       "         0.40295008],\n",
       "        [0.52038825, 0.49164996, 0.5106846 , ..., 0.4872784 , 0.48825645,\n",
       "         0.5354456 ],\n",
       "        ...,\n",
       "        [0.27364725, 0.2854624 , 0.27167785, ..., 0.31574088, 0.28183022,\n",
       "         0.26728618],\n",
       "        [0.4795504 , 0.4889732 , 0.5284146 , ..., 0.5016618 , 0.45102826,\n",
       "         0.40124243],\n",
       "        [0.5502208 , 0.6159343 , 0.5832117 , ..., 0.5331638 , 0.5128115 ,\n",
       "         0.6501398 ]], dtype=float32)}"
      ]
     },
     "execution_count": 4,
     "metadata": {},
     "output_type": "execute_result"
    }
   ],
   "source": [
    "data"
   ]
  },
  {
   "cell_type": "code",
   "execution_count": 6,
   "id": "194eb91b",
   "metadata": {},
   "outputs": [
    {
     "data": {
      "text/plain": [
       "(1390,)"
      ]
     },
     "execution_count": 6,
     "metadata": {},
     "output_type": "execute_result"
    }
   ],
   "source": [
    "data['yt_dev'].shape"
   ]
  },
  {
   "cell_type": "code",
   "execution_count": 8,
   "id": "ead662e2",
   "metadata": {},
   "outputs": [
    {
     "data": {
      "text/plain": [
       "(1390, 32)"
      ]
     },
     "execution_count": 8,
     "metadata": {},
     "output_type": "execute_result"
    }
   ],
   "source": [
    "data['yp_dev'].shape"
   ]
  },
  {
   "cell_type": "code",
   "execution_count": 9,
   "id": "8d74e9df",
   "metadata": {},
   "outputs": [
    {
     "data": {
      "text/plain": [
       "(1614, 32)"
      ]
     },
     "execution_count": 9,
     "metadata": {},
     "output_type": "execute_result"
    }
   ],
   "source": [
    "data['yp_test'].shape"
   ]
  },
  {
   "cell_type": "code",
   "execution_count": null,
   "id": "f253cc0f",
   "metadata": {},
   "outputs": [],
   "source": []
  }
 ],
 "metadata": {
  "kernelspec": {
   "display_name": "Python 3",
   "language": "python",
   "name": "python3"
  },
  "language_info": {
   "codemirror_mode": {
    "name": "ipython",
    "version": 3
   },
   "file_extension": ".py",
   "mimetype": "text/x-python",
   "name": "python",
   "nbconvert_exporter": "python",
   "pygments_lexer": "ipython3",
   "version": "3.6.8"
  }
 },
 "nbformat": 4,
 "nbformat_minor": 5
}
