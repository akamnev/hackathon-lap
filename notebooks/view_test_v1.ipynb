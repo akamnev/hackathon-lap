{
 "cells": [
  {
   "cell_type": "markdown",
   "metadata": {},
   "source": [
    "# Смотрим тестувую выборку"
   ]
  },
  {
   "cell_type": "code",
   "execution_count": 1,
   "metadata": {},
   "outputs": [],
   "source": [
    "import os\n",
    "import pandas as pd\n",
    "from tqdm.auto import tqdm\n",
    "from rdkit import Chem\n",
    "from rdkit.Chem import Draw\n",
    "import networkx as nx\n",
    "from collections import defaultdict\n",
    "from hack_lap.utils import BondType"
   ]
  },
  {
   "cell_type": "code",
   "execution_count": 2,
   "metadata": {},
   "outputs": [],
   "source": [
    "import matplotlib\n",
    "# matplotlib.use('Qt5Agg')\n",
    "# %matplotlib qt5\n",
    "%matplotlib inline\n",
    "import matplotlib.pyplot as plt"
   ]
  },
  {
   "cell_type": "code",
   "execution_count": 3,
   "metadata": {},
   "outputs": [
    {
     "data": {
      "text/html": [
       "<div>\n",
       "<style scoped>\n",
       "    .dataframe tbody tr th:only-of-type {\n",
       "        vertical-align: middle;\n",
       "    }\n",
       "\n",
       "    .dataframe tbody tr th {\n",
       "        vertical-align: top;\n",
       "    }\n",
       "\n",
       "    .dataframe thead th {\n",
       "        text-align: right;\n",
       "    }\n",
       "</style>\n",
       "<table border=\"1\" class=\"dataframe\">\n",
       "  <thead>\n",
       "    <tr style=\"text-align: right;\">\n",
       "      <th></th>\n",
       "      <th>Unnamed: 0</th>\n",
       "      <th>Smiles</th>\n",
       "    </tr>\n",
       "  </thead>\n",
       "  <tbody>\n",
       "    <tr>\n",
       "      <th>0</th>\n",
       "      <td>0</td>\n",
       "      <td>COC(=O)Nc1ccc(-c2nc(N3CCOCC3)c3cnn(C4CCN(Cc5cc...</td>\n",
       "    </tr>\n",
       "    <tr>\n",
       "      <th>1</th>\n",
       "      <td>1</td>\n",
       "      <td>O=Cc1cn(Cc2ccc(Cl)cc2)c2ccccc12</td>\n",
       "    </tr>\n",
       "    <tr>\n",
       "      <th>2</th>\n",
       "      <td>2</td>\n",
       "      <td>NC(CO)C(=O)NNCc1ccc(O)c(O)c1O</td>\n",
       "    </tr>\n",
       "    <tr>\n",
       "      <th>3</th>\n",
       "      <td>3</td>\n",
       "      <td>Nc1nc(=O)n([C@H]2C[C@H](O)[C@@H](CO)O2)cc1Cl</td>\n",
       "    </tr>\n",
       "    <tr>\n",
       "      <th>4</th>\n",
       "      <td>4</td>\n",
       "      <td>Nc1ccc(C(=O)Nc2cccc(-c3nc(N4CCOCC4)c4oc5ncccc5...</td>\n",
       "    </tr>\n",
       "    <tr>\n",
       "      <th>...</th>\n",
       "      <td>...</td>\n",
       "      <td>...</td>\n",
       "    </tr>\n",
       "    <tr>\n",
       "      <th>1609</th>\n",
       "      <td>1609</td>\n",
       "      <td>NS(=O)(=O)c1cc2c(cc1Cl)NC(C1CC3C=CC1C3)NS2(=O)=O</td>\n",
       "    </tr>\n",
       "    <tr>\n",
       "      <th>1610</th>\n",
       "      <td>1610</td>\n",
       "      <td>Cc1cccc(Nc2ccncc2S(=O)(=O)NC(=O)NC(C)C)c1</td>\n",
       "    </tr>\n",
       "    <tr>\n",
       "      <th>1611</th>\n",
       "      <td>1611</td>\n",
       "      <td>CCCC(=O)O[C@]1(C(=O)CO)CC[C@H]2[C@@H]3CCC4=CC(...</td>\n",
       "    </tr>\n",
       "    <tr>\n",
       "      <th>1612</th>\n",
       "      <td>1612</td>\n",
       "      <td>CN(C)c1cccc(Oc2cnc(Nc3cccc(O)c3)nc2)c1</td>\n",
       "    </tr>\n",
       "    <tr>\n",
       "      <th>1613</th>\n",
       "      <td>1613</td>\n",
       "      <td>O=C(O)c1ccccc1-c1c2ccc(=O)cc-2oc2cc(O)ccc12</td>\n",
       "    </tr>\n",
       "  </tbody>\n",
       "</table>\n",
       "<p>1614 rows × 2 columns</p>\n",
       "</div>"
      ],
      "text/plain": [
       "      Unnamed: 0                                             Smiles\n",
       "0              0  COC(=O)Nc1ccc(-c2nc(N3CCOCC3)c3cnn(C4CCN(Cc5cc...\n",
       "1              1                    O=Cc1cn(Cc2ccc(Cl)cc2)c2ccccc12\n",
       "2              2                      NC(CO)C(=O)NNCc1ccc(O)c(O)c1O\n",
       "3              3       Nc1nc(=O)n([C@H]2C[C@H](O)[C@@H](CO)O2)cc1Cl\n",
       "4              4  Nc1ccc(C(=O)Nc2cccc(-c3nc(N4CCOCC4)c4oc5ncccc5...\n",
       "...          ...                                                ...\n",
       "1609        1609   NS(=O)(=O)c1cc2c(cc1Cl)NC(C1CC3C=CC1C3)NS2(=O)=O\n",
       "1610        1610          Cc1cccc(Nc2ccncc2S(=O)(=O)NC(=O)NC(C)C)c1\n",
       "1611        1611  CCCC(=O)O[C@]1(C(=O)CO)CC[C@H]2[C@@H]3CCC4=CC(...\n",
       "1612        1612             CN(C)c1cccc(Oc2cnc(Nc3cccc(O)c3)nc2)c1\n",
       "1613        1613        O=C(O)c1ccccc1-c1c2ccc(=O)cc-2oc2cc(O)ccc12\n",
       "\n",
       "[1614 rows x 2 columns]"
      ]
     },
     "execution_count": 3,
     "metadata": {},
     "output_type": "execute_result"
    }
   ],
   "source": [
    "filename = os.path.join('..', 'data', 'test.csv')\n",
    "df = pd.read_csv(filename)\n",
    "# df = df.loc[:, ['Smiles', 'Active']].astype({'Active': bool})\n",
    "# df.drop_duplicates(subset=['Smiles'], inplace=True)\n",
    "df"
   ]
  },
  {
   "cell_type": "code",
   "execution_count": 4,
   "metadata": {},
   "outputs": [
    {
     "data": {
      "text/plain": [
       "False    5351\n",
       "True      206\n",
       "Name: Active, dtype: int64"
      ]
     },
     "execution_count": 4,
     "metadata": {},
     "output_type": "execute_result"
    }
   ],
   "source": [
    "df['Active'].value_counts()"
   ]
  },
  {
   "cell_type": "code",
   "execution_count": 4,
   "metadata": {},
   "outputs": [
    {
     "data": {
      "text/plain": [
       "[('C', 1613),\n",
       " ('O', 1458),\n",
       " ('N', 1389),\n",
       " ('S', 391),\n",
       " ('Cl', 343),\n",
       " ('F', 229),\n",
       " ('Br', 52),\n",
       " ('Na', 35),\n",
       " ('P', 29),\n",
       " ('I', 24),\n",
       " ('B', 6),\n",
       " ('As', 3),\n",
       " ('K', 3),\n",
       " ('H', 1),\n",
       " ('Zn', 1)]"
      ]
     },
     "execution_count": 4,
     "metadata": {},
     "output_type": "execute_result"
    }
   ],
   "source": [
    "count_atoms = defaultdict(list)\n",
    "for s in df['Smiles'].tolist():\n",
    "    mol = Chem.MolFromSmiles(s)\n",
    "    na = {a.GetSymbol() for a in mol.GetAtoms()}\n",
    "    for nai in na:\n",
    "        count_atoms[nai] += [s]\n",
    "sorted({k: len(v) for k, v in count_atoms.items()}.items(), key=lambda x: -x[1])"
   ]
  },
  {
   "cell_type": "code",
   "execution_count": 9,
   "metadata": {},
   "outputs": [
    {
     "data": {
      "image/png": "[encoded data removed]",
      "text/plain": [
       "<rdkit.Chem.rdchem.Mol at 0x7fbeb91c84c0>"
      ]
     },
     "execution_count": 9,
     "metadata": {},
     "output_type": "execute_result"
    }
   ],
   "source": [
    "name = 'K'\n",
    "s = count_atoms[name][0]\n",
    "mol = Chem.MolFromSmiles(s)\n",
    "mol"
   ]
  },
  {
   "cell_type": "code",
   "execution_count": null,
   "metadata": {},
   "outputs": [],
   "source": []
  }
 ],
 "metadata": {
  "kernelspec": {
   "display_name": "hackathon: lap",
   "language": "python",
   "name": "hackathon-lap"
  },
  "language_info": {
   "codemirror_mode": {
    "name": "ipython",
    "version": 3
   },
   "file_extension": ".py",
   "mimetype": "text/x-python",
   "name": "python",
   "nbconvert_exporter": "python",
   "pygments_lexer": "ipython3",
   "version": "3.8.12"
  }
 },
 "nbformat": 4,
 "nbformat_minor": 4
}
