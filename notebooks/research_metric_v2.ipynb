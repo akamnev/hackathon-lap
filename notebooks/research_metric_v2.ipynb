{
 "cells": [
  {
   "cell_type": "markdown",
   "metadata": {},
   "source": [
    "# Пробуем уменьшить th принятия решения"
   ]
  },
  {
   "cell_type": "code",
   "execution_count": 16,
   "metadata": {},
   "outputs": [],
   "source": [
    "import os\n",
    "import re\n",
    "import pickle\n",
    "import json\n",
    "from tqdm.auto import tqdm\n",
    "import numpy as np\n",
    "import pandas as pd\n",
    "from collections import defaultdict\n",
    "from hack_lap.utils.evaluate import precision_recall, estimate_prediction, calculate_metrics_one_vs_rest_"
   ]
  },
  {
   "cell_type": "code",
   "execution_count": 2,
   "metadata": {},
   "outputs": [],
   "source": [
    "import matplotlib\n",
    "# matplotlib.use('Qt5Agg')\n",
    "# %matplotlib qt5\n",
    "%matplotlib inline\n",
    "import matplotlib.pyplot as plt"
   ]
  },
  {
   "cell_type": "code",
   "execution_count": 3,
   "metadata": {},
   "outputs": [
    {
     "data": {
      "text/plain": [
       "38"
      ]
     },
     "execution_count": 3,
     "metadata": {},
     "output_type": "execute_result"
    }
   ],
   "source": [
    "DIR_DATA = os.path.join('..', 'data')\n",
    "DIR_PREDICT = os.path.join(DIR_DATA, 'predict') \n",
    "DIR_MODEL = os.path.join(DIR_DATA, 'model')\n",
    "MIN_F1 = 0.30\n",
    "\n",
    "ps = re.compile(f'seed-(\\d+)', re.I)\n",
    "pr = re.compile(f'r-(\\d+)', re.I)\n",
    "\n",
    "files_json = [n for n in os.listdir(DIR_MODEL) if n.endswith('.json') and n.startswith('b') and 'best' in n]\n",
    "\n",
    "files_by_try = defaultdict(list)\n",
    "for f in files_json:\n",
    "    seed = [int(g.group(1)) for g in ps.finditer(f)]\n",
    "    r = [int(g.group(1)) for g in pr.finditer(f)]\n",
    "    assert len(seed) == 1\n",
    "    assert len(r) == 1\n",
    "    seed = seed[0]\n",
    "    r = r[0]\n",
    "    files_by_try[(seed, r)].append(f)\n",
    "    \n",
    "files_json = []\n",
    "for _, v in files_by_try.items():\n",
    "    best_v = None\n",
    "    best_f1 = 0.0\n",
    "    for vi in v:\n",
    "        with open(os.path.join(DIR_MODEL, vi)) as fp:\n",
    "            res = json.load(fp)\n",
    "        if best_f1 < res['best_f1']:\n",
    "            best_f1 = res['best_f1']\n",
    "            best_v = vi\n",
    "    if best_f1 < MIN_F1:\n",
    "        continue\n",
    "    files_json.append((best_v, best_f1))\n",
    "len(files_json)"
   ]
  },
  {
   "cell_type": "code",
   "execution_count": 10,
   "metadata": {},
   "outputs": [
    {
     "data": {
      "text/plain": [
       "0.38139171881711037"
      ]
     },
     "execution_count": 10,
     "metadata": {},
     "output_type": "execute_result"
    }
   ],
   "source": [
    "f1"
   ]
  },
  {
   "cell_type": "code",
   "execution_count": 50,
   "metadata": {},
   "outputs": [],
   "source": [
    "f_json, f1 = files_json[30]\n",
    "f = f_json.replace('json', 'pkl')\n",
    "with open(os.path.join(DIR_MODEL, f), 'rb') as fp:\n",
    "    data = pickle.load(fp)\n",
    "yt_dev, yp_dev, yp_test = data['yt_dev'], data['yp_dev'], data['yp_test']\n"
   ]
  },
  {
   "cell_type": "code",
   "execution_count": 51,
   "metadata": {},
   "outputs": [
    {
     "data": {
      "text/plain": [
       "((0.9741932116778383, 0.9872944693572496, 0.9806995872821974),\n",
       " (0.5214793001905421, 0.34615384615384615, 0.4161018009978643))"
      ]
     },
     "execution_count": 51,
     "metadata": {},
     "output_type": "execute_result"
    }
   ],
   "source": [
    "calculate_metrics_one_vs_rest_(yt_dev, yp_dev, dump_factor=1.0)"
   ]
  },
  {
   "cell_type": "code",
   "execution_count": 54,
   "metadata": {},
   "outputs": [
    {
     "data": {
      "text/plain": [
       "((0.9748961539729847, 0.9857997010463379, 0.9803171098862417),\n",
       " (0.5072024260803645, 0.36538461538461536, 0.42476851519619524))"
      ]
     },
     "execution_count": 54,
     "metadata": {},
     "output_type": "execute_result"
    }
   ],
   "source": [
    "calculate_metrics_one_vs_rest_(yt_dev, yp_dev, dump_factor=0.99)"
   ]
  },
  {
   "cell_type": "code",
   "execution_count": 57,
   "metadata": {},
   "outputs": [
    {
     "data": {
      "application/vnd.jupyter.widget-view+json": {
       "model_id": "181382a0eb2446159836dc1221cef5e1",
       "version_major": 2,
       "version_minor": 0
      },
      "text/plain": [
       "  0%|          | 0/31 [00:00<?, ?it/s]"
      ]
     },
     "metadata": {},
     "output_type": "display_data"
    },
    {
     "data": {
      "text/plain": [
       "(0.42476851519619524, 0.99)"
      ]
     },
     "execution_count": 57,
     "metadata": {},
     "output_type": "execute_result"
    },
    {
     "data": {
      "image/png": "[encoded data removed]",
      "text/plain": [
       "<Figure size 432x288 with 1 Axes>"
      ]
     },
     "metadata": {
      "needs_background": "light"
     },
     "output_type": "display_data"
    }
   ],
   "source": [
    "x = np.linspace(0.9, 1.0, 31)\n",
    "s = []\n",
    "for f in tqdm(x):\n",
    "    _, (_, _, a) = calculate_metrics_one_vs_rest_(yt_dev, yp_dev, dump_factor=f)\n",
    "    s.append(a)\n",
    "    \n",
    "plt.plot(x, s);\n",
    "\n",
    "ii = np.nanargmax(s)\n",
    "s[ii], x[ii]"
   ]
  },
  {
   "cell_type": "code",
   "execution_count": 58,
   "metadata": {},
   "outputs": [
    {
     "data": {
      "text/plain": [
       "array([0.9       , 0.90333333, 0.90666667, 0.91      , 0.91333333,\n",
       "       0.91666667, 0.92      , 0.92333333, 0.92666667, 0.93      ,\n",
       "       0.93333333, 0.93666667, 0.94      , 0.94333333, 0.94666667,\n",
       "       0.95      , 0.95333333, 0.95666667, 0.96      , 0.96333333,\n",
       "       0.96666667, 0.97      , 0.97333333, 0.97666667, 0.98      ,\n",
       "       0.98333333, 0.98666667, 0.99      , 0.99333333, 0.99666667,\n",
       "       1.        ])"
      ]
     },
     "execution_count": 58,
     "metadata": {},
     "output_type": "execute_result"
    }
   ],
   "source": [
    "x"
   ]
  },
  {
   "cell_type": "code",
   "execution_count": 5,
   "metadata": {},
   "outputs": [],
   "source": [
    "predict = []\n",
    "for f_json, f1 in files_json:\n",
    "    f = f_json.replace('json', 'pkl')\n",
    "    with open(os.path.join(DIR_MODEL, f), 'rb') as fp:\n",
    "        data = pickle.load(fp)\n",
    "    yt_dev, yp_dev, yp_test = data['yt_dev'], data['yp_dev'], data['yp_test']\n",
    "\n",
    "    yp_dev = np.mean(yp_dev, axis=1).ravel()\n",
    "    rp0, rp1, th = precision_recall(yt_dev, yp_dev)\n",
    "    f1 = 2 * rp1[0] * rp1[1] / (rp1[0] + rp1[1] + 1e-6)\n",
    "    ii = np.argmax(f1)\n",
    "    f1 = f1[ii]\n",
    "    th = th[ii]\n",
    "\n",
    "    yp_test = np.mean(yp_test, axis=1)\n",
    "    yp_test = (yp_test > th).astype(int).reshape(-1, 1)\n",
    "    predict.append(yp_test)"
   ]
  },
  {
   "cell_type": "code",
   "execution_count": 10,
   "metadata": {},
   "outputs": [
    {
     "name": "stdout",
     "output_type": "stream",
     "text": [
      "38\n",
      "40\n"
     ]
    }
   ],
   "source": [
    "submission = np.concatenate(predict, axis=1)\n",
    "print(submission.shape[1])\n",
    "submission = np.mean(submission, axis=1)\n",
    "th = 0.3\n",
    "y_pred = submission > th\n",
    "ii = np.arange(len(y_pred))\n",
    "print(np.sum(y_pred))\n",
    "\n",
    "ii = ii[y_pred]\n",
    "score = submission[y_pred]\n",
    "jj = np.argsort(score)\n",
    "ii = ii[jj]\n",
    "score = score[jj]"
   ]
  },
  {
   "cell_type": "code",
   "execution_count": 11,
   "metadata": {},
   "outputs": [
    {
     "data": {
      "text/plain": [
       "(array([0.31578947, 0.31578947, 0.31578947, 0.34210526, 0.34210526,\n",
       "        0.34210526, 0.34210526, 0.34210526, 0.39473684, 0.42105263,\n",
       "        0.42105263, 0.44736842, 0.44736842, 0.47368421, 0.47368421,\n",
       "        0.47368421, 0.5       , 0.5       , 0.52631579, 0.55263158,\n",
       "        0.55263158, 0.57894737, 0.60526316, 0.63157895, 0.63157895,\n",
       "        0.68421053, 0.73684211, 0.78947368, 0.78947368, 0.81578947,\n",
       "        0.86842105, 0.92105263, 0.92105263, 0.92105263, 0.92105263,\n",
       "        0.94736842, 0.97368421, 1.        , 1.        , 1.        ]),\n",
       " array([ 747,  362,  425, 1183, 1422,   92,  908, 1379,  865,  179,  796,\n",
       "        1363,   15,  518, 1165,  772, 1013,  965,  608,  643,  274, 1495,\n",
       "        1256,  941,  793,  931, 1487, 1457, 1303,  690,  470,    2,  512,\n",
       "        1173,  678, 1419,  841,  453,   41, 1228]))"
      ]
     },
     "execution_count": 11,
     "metadata": {},
     "output_type": "execute_result"
    }
   ],
   "source": [
    "score, ii"
   ]
  },
  {
   "cell_type": "code",
   "execution_count": 21,
   "metadata": {
    "scrolled": true
   },
   "outputs": [
    {
     "name": "stdout",
     "output_type": "stream",
     "text": [
      "# 1183 score: 0.42105263157894735\n",
      "Cc1ccccc1N(C)C(=O)c1ccc([S+]([O-])c2nccs2)c([N+](=O)[O-])c1\n",
      "\n",
      "# 15 score: 0.42105263157894735\n",
      "CCOC(=O)OC(C)OC1=C(C(=O)Nc2ccccn2)N(C)S(=O)(=O)c2ccccc21\n",
      "\n",
      "# 252 score: 0.42105263157894735\n",
      "CC(C)(C)/[N+]([O-])=C/c1ccc(S(=O)(=O)[O-])cc1S(=O)(=O)[O-].[Na+].[Na+]\n",
      "\n",
      "# 433 score: 0.42105263157894735\n",
      "O=C1C(Cl)=C(Cl)C(=O)C(Cl)=C1Cl\n",
      "\n",
      "# 1379 score: 0.42105263157894735\n",
      "CC(C)NCCCn1c(Sc2cc3c(cc2I)OCO3)nc2c(N)ncnc21\n",
      "\n",
      "# 1013 score: 0.42105263157894735\n",
      "O=C(O)C(O)Cc1ccc(O)c(O)c1\n",
      "\n",
      "# 608 score: 0.42105263157894735\n",
      "O=c1cc(-c2ccc(O)c(O)c2)oc2cc(O[C@@H]3O[C@H](CO)[C@@H](O)[C@H](O)[C@H]3O)cc(O)c12\n",
      "\n",
      "# 865 score: 0.42105263157894735\n",
      "O=C([O-])O.O=S(=O)(O)c1cc(I)c(O)c2ncccc12.[Na+]\n",
      "\n",
      "# 179 score: 0.47368421052631576\n",
      "Oc1ccc(C(O)CNCCCCCCNCC(O)c2ccc(O)c(O)c2)cc1O\n",
      "\n",
      "# 1363 score: 0.47368421052631576\n",
      "OC(CN1CCC(Cc2ccc(F)cc2)CC1)c1ccc(Cl)cc1\n",
      "\n",
      "# 518 score: 0.47368421052631576\n",
      "C[n+]1c2cc(N)ccc2cc2ccc(N)cc21.[Cl-]\n",
      "\n",
      "# 772 score: 0.47368421052631576\n",
      "C[n+]1c2cc(N)ccc2cc2ccc(N)cc21.Cl.Nc1ccc2cc3ccc(N)cc3nc2c1.[Cl-]\n",
      "\n",
      "# 1256 score: 0.5263157894736842\n",
      "Oc1cc(O)c2c(c1)O[C@H](c1ccc(O)c(O)c1)[C@H](O)[C@H]2c1c(O)cc(O)c2c1O[C@H](c1ccc(O)c(O)c1)[C@@H](O)C2\n",
      "\n",
      "# 274 score: 0.5789473684210527\n",
      "O=C1C(Cl)=C(N2CCOCC2)C(=O)N1c1ccc(Cl)c(Cl)c1\n",
      "\n",
      "# 965 score: 0.5789473684210527\n",
      "O=C(/C=C/c1ccc(O)c(O)c1)O[C@@H](C(=O)O)[C@@H](OC(=O)/C=C/c1ccc(O)c(O)c1)C(=O)O\n",
      "\n",
      "# 1165 score: 0.631578947368421\n",
      "C=CCN1CCc2cc(O)c(O)cc2[C@H](c2ccccc2)C1\n",
      "\n",
      "# 1495 score: 0.631578947368421\n",
      "Cl.NCCc1ccc(O)c(O)c1\n",
      "\n",
      "# 793 score: 0.631578947368421\n",
      "CS(=O)(=O)O.Oc1ccc(C2CNCCc3c2cc(O)c(O)c3Cl)cc1\n",
      "\n",
      "# 931 score: 0.6842105263157895\n",
      "Nc1nc(=S)c2ncn([C@@H]3O[C@H](CO)[C@@H](O)[C@H]3O)c2[nH]1\n",
      "\n",
      "# 941 score: 0.6842105263157895\n",
      "CCN(CC)S(=O)(=O)c1cccc(-n2sc3ccccc3c2=O)c1\n",
      "\n",
      "# 643 score: 0.6842105263157895\n",
      "CC[C@@]1(O)C(=O)OCc2c1cc1n(c2=O)Cc2c-1nc1cc(F)c(C)c3c1c2[C@@H](N)CC3.CS(=O)(=O)O.O.O\n",
      "\n",
      "# 1487 score: 0.7368421052631579\n",
      "Cl.NCc1cnc(S)n1[C@H]1CCc2c(F)cc(F)cc2C1\n",
      "\n",
      "# 1303 score: 0.7368421052631579\n",
      "Cl.Oc1cc2c(cc1O)[C@H]1c3ccccc3CN[C@@H]1CC2\n",
      "\n",
      "# 690 score: 0.7894736842105263\n",
      "CN1CCc2cccc3c2[C@H]1Cc1ccc(O)c(O)c1-3.Cl\n",
      "\n",
      "# 470 score: 0.7894736842105263\n",
      "Oc1cc2c(cc1O)[C@@H]1c3ccc(O)c(O)c3OC[C@]1(O)C2\n",
      "\n",
      "# 1457 score: 0.8421052631578947\n",
      "CCC(C)SSc1ncc[nH]1\n",
      "\n",
      "# 2 score: 0.8947368421052632\n",
      "NC(CO)C(=O)NNCc1ccc(O)c(O)c1O\n",
      "\n",
      "# 1173 score: 0.9473684210526315\n",
      "Nc1ccc2cc3ccc(N)cc3nc2c1\n",
      "\n",
      "# 512 score: 0.9473684210526315\n",
      "COc1cc(-c2ccc(/N=N/c3ccc4c(S(=O)(=O)O)cc(S(=O)(=O)O)c(N)c4c3O)c(OC)c2)ccc1/N=N/c1ccc2c(S(=O)(=O)O)cc(S(=O)(=O)O)c(N)c2c1O\n",
      "\n",
      "# 678 score: 1.0\n",
      "Sc1ncnc2nc[nH]c12\n",
      "\n",
      "# 453 score: 1.0\n",
      "CCN(CC)C(=S)S\n",
      "\n",
      "# 1419 score: 1.0\n",
      "O=c1c2ccccc2sn1-c1ccccc1\n",
      "\n",
      "# 41 score: 1.0\n",
      "COc1ccnc(C[S+]([O-])c2nc3cc(OC(F)F)ccc3[nH]2)c1OC\n",
      "\n",
      "# 1228 score: 1.0\n",
      "COCCCOc1ccnc(C[S+]([O-])c2nc3ccccc3[n-]2)c1C.[Na+]\n",
      "\n",
      "# 841 score: 1.0\n",
      "COc1ccc2[nH]c([S+]([O-])Cc3ncc(C)c(OC)c3C)nc2n1\n",
      "\n"
     ]
    }
   ],
   "source": [
    "df = pd.read_csv(os.path.join(DIR_DATA, 'test.csv'))\n",
    "df['Score'] = submission\n",
    "\n",
    "for i, row in df.loc[ii].iterrows():\n",
    "    print(f\"# {i} score: {row['Score']}\")\n",
    "    print(row['Smiles'])\n",
    "    print()\n"
   ]
  },
  {
   "cell_type": "code",
   "execution_count": null,
   "metadata": {},
   "outputs": [],
   "source": [
    "# 518 и 772 эквивалентны"
   ]
  },
  {
   "cell_type": "code",
   "execution_count": null,
   "metadata": {},
   "outputs": [],
   "source": []
  },
  {
   "cell_type": "code",
   "execution_count": 23,
   "metadata": {},
   "outputs": [],
   "source": [
    "# df = pd.read_csv(os.path.join(DIR_DATA, 'test.csv'))\n",
    "# df['Active'] = submission\n",
    "\n",
    "# seed_hash = hash(''.join(map(str, seeds)))\n",
    "# name = f'b-L4-H32-Patt-NF-BF-#seeds-{len(seeds)}_hash-{seed_hash}_mean_th-{th}'\n",
    "\n",
    "# df.to_csv(os.path.join(DIR_PREDICT, name + '.csv'), index=False)\n",
    "\n",
    "# with open(os.path.join(DIR_PREDICT, name + '.json'), 'w') as fp:\n",
    "#     json.dump({'seeds': seeds}, fp, indent=2)"
   ]
  },
  {
   "cell_type": "code",
   "execution_count": null,
   "metadata": {},
   "outputs": [],
   "source": []
  }
 ],
 "metadata": {
  "kernelspec": {
   "display_name": "hackathon: lap",
   "language": "python",
   "name": "hackathon-lap"
  },
  "language_info": {
   "codemirror_mode": {
    "name": "ipython",
    "version": 3
   },
   "file_extension": ".py",
   "mimetype": "text/x-python",
   "name": "python",
   "nbconvert_exporter": "python",
   "pygments_lexer": "ipython3",
   "version": "3.8.12"
  }
 },
 "nbformat": 4,
 "nbformat_minor": 4
}
