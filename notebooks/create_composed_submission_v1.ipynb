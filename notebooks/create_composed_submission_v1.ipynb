{
 "cells": [
  {
   "cell_type": "markdown",
   "metadata": {},
   "source": [
    "# Построение предсказания на основе агрегирации ответов моделей"
   ]
  },
  {
   "cell_type": "code",
   "execution_count": 1,
   "metadata": {},
   "outputs": [],
   "source": [
    "import os\n",
    "import re\n",
    "import pickle\n",
    "import numpy as np\n",
    "import pandas as pd\n",
    "from hack_lap.utils.evaluate import precision_recall"
   ]
  },
  {
   "cell_type": "code",
   "execution_count": 2,
   "metadata": {},
   "outputs": [],
   "source": [
    "import matplotlib\n",
    "# matplotlib.use('Qt5Agg')\n",
    "# %matplotlib qt5\n",
    "%matplotlib inline\n",
    "import matplotlib.pyplot as plt"
   ]
  },
  {
   "cell_type": "code",
   "execution_count": 3,
   "metadata": {},
   "outputs": [],
   "source": [
    "DIR_DATA = os.path.join('..', 'data')\n",
    "DIR_PREDICT = os.path.join(DIR_DATA, 'predict') \n",
    "DIR_MODEL = os.path.join(DIR_DATA, 'model')\n",
    "files = [n for n in os.listdir(DIR_MODEL) if n.endswith('.pkl') and 'Nepoch' in n]\n",
    "\n",
    "ps = re.compile(f'seed-(\\d+)', re.I)\n",
    "seeds = '_'.join(sorted([g.group(1) for f in files for g in ps.finditer(f)]))"
   ]
  },
  {
   "cell_type": "code",
   "execution_count": 4,
   "metadata": {},
   "outputs": [],
   "source": [
    "predict = []\n",
    "for f in files:\n",
    "    with open(os.path.join(DIR_MODEL, f), 'rb') as fp:\n",
    "        data = pickle.load(fp)\n",
    "    yt_dev, yp_dev, yp_test = data['yt_dev'], data['yp_dev'], data['yp_test']\n",
    "\n",
    "    yp_dev = np.mean(yp_dev, axis=1).ravel()\n",
    "    rp0, rp1, th = precision_recall(yt_dev, yp_dev)\n",
    "    f1 = 2 * rp1[0] * rp1[1] / (rp1[0] + rp1[1] + 1e-6)\n",
    "    ii = np.argmax(f1)\n",
    "    f1 = f1[ii]\n",
    "    th = th[ii]\n",
    "\n",
    "    # yp_test = np.mean(yp_test, axis=1)\n",
    "    yp_test = np.median(yp_test, axis=1)\n",
    "    yp_test = (yp_test > th).astype(int).reshape(-1, 1)\n",
    "    predict.append(yp_test)\n",
    "predict = np.concatenate(predict, axis=1)\n",
    "th = predict.shape[1] // 2\n",
    "predict = np.sum(predict, axis=1)\n",
    "predict = (predict > th).astype(int)"
   ]
  },
  {
   "cell_type": "code",
   "execution_count": 5,
   "metadata": {},
   "outputs": [],
   "source": [
    "df = pd.read_csv(os.path.join(DIR_DATA, 'test.csv'))\n",
    "df['Active'] = predict\n",
    "\n",
    "name = f'mdl-L4-H32-Pmean-NF-BF-seeds-{seeds}_median'\n",
    "df.to_csv(os.path.join(DIR_PREDICT, name + '.csv'), index=False)"
   ]
  },
  {
   "cell_type": "code",
   "execution_count": null,
   "metadata": {},
   "outputs": [],
   "source": []
  },
  {
   "cell_type": "code",
   "execution_count": null,
   "metadata": {},
   "outputs": [],
   "source": []
  },
  {
   "cell_type": "code",
   "execution_count": null,
   "metadata": {},
   "outputs": [],
   "source": []
  }
 ],
 "metadata": {
  "kernelspec": {
   "display_name": "hackathon: lap",
   "language": "python",
   "name": "hackathon-lap"
  },
  "language_info": {
   "codemirror_mode": {
    "name": "ipython",
    "version": 3
   },
   "file_extension": ".py",
   "mimetype": "text/x-python",
   "name": "python",
   "nbconvert_exporter": "python",
   "pygments_lexer": "ipython3",
   "version": "3.8.12"
  }
 },
 "nbformat": 4,
 "nbformat_minor": 4
}
